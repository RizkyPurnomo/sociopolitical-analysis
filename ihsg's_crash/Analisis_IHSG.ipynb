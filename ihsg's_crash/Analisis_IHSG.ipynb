{
  "nbformat": 4,
  "nbformat_minor": 0,
  "metadata": {
    "colab": {
      "provenance": [],
      "toc_visible": true
    },
    "kernelspec": {
      "name": "python3",
      "display_name": "Python 3"
    },
    "language_info": {
      "name": "python"
    }
  },
  "cells": [
    {
      "cell_type": "code",
      "execution_count": null,
      "metadata": {
        "colab": {
          "base_uri": "https://localhost:8080/"
        },
        "id": "FnMjktJZaP7H",
        "outputId": "6b33a150-3485-4da8-9cd2-359248721d4a"
      },
      "outputs": [
        {
          "output_type": "stream",
          "name": "stdout",
          "text": [
            "Drive already mounted at /content/drive; to attempt to forcibly remount, call drive.mount(\"/content/drive\", force_remount=True).\n"
          ]
        }
      ],
      "source": [
        "from google.colab import drive\n",
        "drive.mount('/content/drive')"
      ]
    },
    {
      "cell_type": "code",
      "source": [
        "#@title Read DF\n",
        "import pandas as pd\n",
        "file_path = '/content/drive/MyDrive/Colab Notebooks/Proyek Analisis Data - Sospol/IHSG 18 Maret 2025/ihsg_saja_latest_final_adahf.csv'\n",
        "\n",
        "df = pd.read_csv(file_path)\n",
        "df.info()"
      ],
      "metadata": {
        "colab": {
          "base_uri": "https://localhost:8080/"
        },
        "id": "L5-nd5Hkaaes",
        "outputId": "6664424a-16c3-4686-c0ab-f7ff42dad056"
      },
      "execution_count": null,
      "outputs": [
        {
          "output_type": "stream",
          "name": "stdout",
          "text": [
            "<class 'pandas.core.frame.DataFrame'>\n",
            "RangeIndex: 2738 entries, 0 to 2737\n",
            "Data columns (total 20 columns):\n",
            " #   Column                   Non-Null Count  Dtype \n",
            "---  ------                   --------------  ----- \n",
            " 0   conversation_id_str      2738 non-null   int64 \n",
            " 1   created_at               2738 non-null   object\n",
            " 2   favorite_count           2738 non-null   int64 \n",
            " 3   full_text                2738 non-null   object\n",
            " 4   id_str                   2738 non-null   int64 \n",
            " 5   image_url                332 non-null    object\n",
            " 6   in_reply_to_screen_name  1364 non-null   object\n",
            " 7   lang                     2738 non-null   object\n",
            " 8   location                 1494 non-null   object\n",
            " 9   quote_count              2738 non-null   int64 \n",
            " 10  reply_count              2738 non-null   int64 \n",
            " 11  retweet_count            2738 non-null   int64 \n",
            " 12  tweet_url                2738 non-null   object\n",
            " 13  user_id_str              2738 non-null   int64 \n",
            " 14  username                 2738 non-null   object\n",
            " 15  sentiment                2738 non-null   object\n",
            " 16  emotion                  2738 non-null   object\n",
            " 17  summary                  2738 non-null   object\n",
            " 18  sentiment_hf             2738 non-null   object\n",
            " 19  emotion_hf               2738 non-null   object\n",
            "dtypes: int64(7), object(13)\n",
            "memory usage: 427.9+ KB\n"
          ]
        }
      ]
    },
    {
      "cell_type": "markdown",
      "source": [
        "# LLM Labelling"
      ],
      "metadata": {
        "id": "_bn3WbZpBska"
      }
    },
    {
      "cell_type": "code",
      "source": [
        "#@title Sentiment - LLM Labeling\n",
        "\n",
        "import plotly.graph_objects as go\n",
        "import plotly.express as px\n",
        "\n",
        "# Count the occurrences of each sentiment\n",
        "sentiment_counts = df['sentiment'].value_counts()\n",
        "\n",
        "# Define colors for each sentiment\n",
        "colors = {\n",
        "    'Negative': px.colors.qualitative.Vivid[9],\n",
        "    'Neutral': px.colors.qualitative.Pastel[10],\n",
        "    'Positive': px.colors.qualitative.Vivid[7]\n",
        "}\n",
        "\n",
        "# Create the donut chart\n",
        "fig = go.Figure(data=[go.Pie(labels=sentiment_counts.index,\n",
        "                             values=sentiment_counts.values,\n",
        "                             hole=0.7,\n",
        "                             marker=dict(colors=[colors[sentiment] for sentiment in sentiment_counts.index]))])\n",
        "\n",
        "# Add total df in the center\n",
        "fig.add_annotation(text=f\"{len(df)} Tweets\",\n",
        "                   x=0.5, y=0.5,\n",
        "                   font=dict(size=16, color=\"black\"),\n",
        "                   showarrow=False)\n",
        "\n",
        "# Add percentage labels\n",
        "fig.update_traces(textinfo='percent+label', textposition='inside')\n",
        "\n",
        "# Customize layout\n",
        "fig.update_layout(title=\"Tweet Sentiment Distribution - LLM Labeling\", title_x=0.5)\n",
        "\n",
        "# Show the chart\n",
        "fig.show()"
      ],
      "metadata": {
        "colab": {
          "base_uri": "https://localhost:8080/",
          "height": 542
        },
        "id": "gBed9YkPakGY",
        "outputId": "1d9ad62b-c676-48c1-cd6c-b169efe1f099"
      },
      "execution_count": null,
      "outputs": [
        {
          "output_type": "display_data",
          "data": {
            "text/html": [
              "<html>\n",
              "<head><meta charset=\"utf-8\" /></head>\n",
              "<body>\n",
              "    <div>            <script src=\"https://cdnjs.cloudflare.com/ajax/libs/mathjax/2.7.5/MathJax.js?config=TeX-AMS-MML_SVG\"></script><script type=\"text/javascript\">if (window.MathJax && window.MathJax.Hub && window.MathJax.Hub.Config) {window.MathJax.Hub.Config({SVG: {font: \"STIX-Web\"}});}</script>                <script type=\"text/javascript\">window.PlotlyConfig = {MathJaxConfig: 'local'};</script>\n",
              "        <script charset=\"utf-8\" src=\"https://cdn.plot.ly/plotly-2.35.2.min.js\"></script>                <div id=\"d4759487-751b-4295-b180-777ec262cd6a\" class=\"plotly-graph-div\" style=\"height:525px; width:100%;\"></div>            <script type=\"text/javascript\">                                    window.PLOTLYENV=window.PLOTLYENV || {};                                    if (document.getElementById(\"d4759487-751b-4295-b180-777ec262cd6a\")) {                    Plotly.newPlot(                        \"d4759487-751b-4295-b180-777ec262cd6a\",                        [{\"hole\":0.7,\"labels\":[\"Negative\",\"Neutral\",\"Positive\"],\"marker\":{\"colors\":[\"rgb(237, 100, 90)\",\"rgb(179, 179, 179)\",\"rgb(47, 138, 196)\"]},\"values\":[2032,417,289],\"type\":\"pie\",\"textinfo\":\"percent+label\",\"textposition\":\"inside\"}],                        {\"template\":{\"data\":{\"histogram2dcontour\":[{\"type\":\"histogram2dcontour\",\"colorbar\":{\"outlinewidth\":0,\"ticks\":\"\"},\"colorscale\":[[0.0,\"#0d0887\"],[0.1111111111111111,\"#46039f\"],[0.2222222222222222,\"#7201a8\"],[0.3333333333333333,\"#9c179e\"],[0.4444444444444444,\"#bd3786\"],[0.5555555555555556,\"#d8576b\"],[0.6666666666666666,\"#ed7953\"],[0.7777777777777778,\"#fb9f3a\"],[0.8888888888888888,\"#fdca26\"],[1.0,\"#f0f921\"]]}],\"choropleth\":[{\"type\":\"choropleth\",\"colorbar\":{\"outlinewidth\":0,\"ticks\":\"\"}}],\"histogram2d\":[{\"type\":\"histogram2d\",\"colorbar\":{\"outlinewidth\":0,\"ticks\":\"\"},\"colorscale\":[[0.0,\"#0d0887\"],[0.1111111111111111,\"#46039f\"],[0.2222222222222222,\"#7201a8\"],[0.3333333333333333,\"#9c179e\"],[0.4444444444444444,\"#bd3786\"],[0.5555555555555556,\"#d8576b\"],[0.6666666666666666,\"#ed7953\"],[0.7777777777777778,\"#fb9f3a\"],[0.8888888888888888,\"#fdca26\"],[1.0,\"#f0f921\"]]}],\"heatmap\":[{\"type\":\"heatmap\",\"colorbar\":{\"outlinewidth\":0,\"ticks\":\"\"},\"colorscale\":[[0.0,\"#0d0887\"],[0.1111111111111111,\"#46039f\"],[0.2222222222222222,\"#7201a8\"],[0.3333333333333333,\"#9c179e\"],[0.4444444444444444,\"#bd3786\"],[0.5555555555555556,\"#d8576b\"],[0.6666666666666666,\"#ed7953\"],[0.7777777777777778,\"#fb9f3a\"],[0.8888888888888888,\"#fdca26\"],[1.0,\"#f0f921\"]]}],\"heatmapgl\":[{\"type\":\"heatmapgl\",\"colorbar\":{\"outlinewidth\":0,\"ticks\":\"\"},\"colorscale\":[[0.0,\"#0d0887\"],[0.1111111111111111,\"#46039f\"],[0.2222222222222222,\"#7201a8\"],[0.3333333333333333,\"#9c179e\"],[0.4444444444444444,\"#bd3786\"],[0.5555555555555556,\"#d8576b\"],[0.6666666666666666,\"#ed7953\"],[0.7777777777777778,\"#fb9f3a\"],[0.8888888888888888,\"#fdca26\"],[1.0,\"#f0f921\"]]}],\"contourcarpet\":[{\"type\":\"contourcarpet\",\"colorbar\":{\"outlinewidth\":0,\"ticks\":\"\"}}],\"contour\":[{\"type\":\"contour\",\"colorbar\":{\"outlinewidth\":0,\"ticks\":\"\"},\"colorscale\":[[0.0,\"#0d0887\"],[0.1111111111111111,\"#46039f\"],[0.2222222222222222,\"#7201a8\"],[0.3333333333333333,\"#9c179e\"],[0.4444444444444444,\"#bd3786\"],[0.5555555555555556,\"#d8576b\"],[0.6666666666666666,\"#ed7953\"],[0.7777777777777778,\"#fb9f3a\"],[0.8888888888888888,\"#fdca26\"],[1.0,\"#f0f921\"]]}],\"surface\":[{\"type\":\"surface\",\"colorbar\":{\"outlinewidth\":0,\"ticks\":\"\"},\"colorscale\":[[0.0,\"#0d0887\"],[0.1111111111111111,\"#46039f\"],[0.2222222222222222,\"#7201a8\"],[0.3333333333333333,\"#9c179e\"],[0.4444444444444444,\"#bd3786\"],[0.5555555555555556,\"#d8576b\"],[0.6666666666666666,\"#ed7953\"],[0.7777777777777778,\"#fb9f3a\"],[0.8888888888888888,\"#fdca26\"],[1.0,\"#f0f921\"]]}],\"mesh3d\":[{\"type\":\"mesh3d\",\"colorbar\":{\"outlinewidth\":0,\"ticks\":\"\"}}],\"scatter\":[{\"fillpattern\":{\"fillmode\":\"overlay\",\"size\":10,\"solidity\":0.2},\"type\":\"scatter\"}],\"parcoords\":[{\"type\":\"parcoords\",\"line\":{\"colorbar\":{\"outlinewidth\":0,\"ticks\":\"\"}}}],\"scatterpolargl\":[{\"type\":\"scatterpolargl\",\"marker\":{\"colorbar\":{\"outlinewidth\":0,\"ticks\":\"\"}}}],\"bar\":[{\"error_x\":{\"color\":\"#2a3f5f\"},\"error_y\":{\"color\":\"#2a3f5f\"},\"marker\":{\"line\":{\"color\":\"#E5ECF6\",\"width\":0.5},\"pattern\":{\"fillmode\":\"overlay\",\"size\":10,\"solidity\":0.2}},\"type\":\"bar\"}],\"scattergeo\":[{\"type\":\"scattergeo\",\"marker\":{\"colorbar\":{\"outlinewidth\":0,\"ticks\":\"\"}}}],\"scatterpolar\":[{\"type\":\"scatterpolar\",\"marker\":{\"colorbar\":{\"outlinewidth\":0,\"ticks\":\"\"}}}],\"histogram\":[{\"marker\":{\"pattern\":{\"fillmode\":\"overlay\",\"size\":10,\"solidity\":0.2}},\"type\":\"histogram\"}],\"scattergl\":[{\"type\":\"scattergl\",\"marker\":{\"colorbar\":{\"outlinewidth\":0,\"ticks\":\"\"}}}],\"scatter3d\":[{\"type\":\"scatter3d\",\"line\":{\"colorbar\":{\"outlinewidth\":0,\"ticks\":\"\"}},\"marker\":{\"colorbar\":{\"outlinewidth\":0,\"ticks\":\"\"}}}],\"scattermapbox\":[{\"type\":\"scattermapbox\",\"marker\":{\"colorbar\":{\"outlinewidth\":0,\"ticks\":\"\"}}}],\"scatterternary\":[{\"type\":\"scatterternary\",\"marker\":{\"colorbar\":{\"outlinewidth\":0,\"ticks\":\"\"}}}],\"scattercarpet\":[{\"type\":\"scattercarpet\",\"marker\":{\"colorbar\":{\"outlinewidth\":0,\"ticks\":\"\"}}}],\"carpet\":[{\"aaxis\":{\"endlinecolor\":\"#2a3f5f\",\"gridcolor\":\"white\",\"linecolor\":\"white\",\"minorgridcolor\":\"white\",\"startlinecolor\":\"#2a3f5f\"},\"baxis\":{\"endlinecolor\":\"#2a3f5f\",\"gridcolor\":\"white\",\"linecolor\":\"white\",\"minorgridcolor\":\"white\",\"startlinecolor\":\"#2a3f5f\"},\"type\":\"carpet\"}],\"table\":[{\"cells\":{\"fill\":{\"color\":\"#EBF0F8\"},\"line\":{\"color\":\"white\"}},\"header\":{\"fill\":{\"color\":\"#C8D4E3\"},\"line\":{\"color\":\"white\"}},\"type\":\"table\"}],\"barpolar\":[{\"marker\":{\"line\":{\"color\":\"#E5ECF6\",\"width\":0.5},\"pattern\":{\"fillmode\":\"overlay\",\"size\":10,\"solidity\":0.2}},\"type\":\"barpolar\"}],\"pie\":[{\"automargin\":true,\"type\":\"pie\"}]},\"layout\":{\"autotypenumbers\":\"strict\",\"colorway\":[\"#636efa\",\"#EF553B\",\"#00cc96\",\"#ab63fa\",\"#FFA15A\",\"#19d3f3\",\"#FF6692\",\"#B6E880\",\"#FF97FF\",\"#FECB52\"],\"font\":{\"color\":\"#2a3f5f\"},\"hovermode\":\"closest\",\"hoverlabel\":{\"align\":\"left\"},\"paper_bgcolor\":\"white\",\"plot_bgcolor\":\"#E5ECF6\",\"polar\":{\"bgcolor\":\"#E5ECF6\",\"angularaxis\":{\"gridcolor\":\"white\",\"linecolor\":\"white\",\"ticks\":\"\"},\"radialaxis\":{\"gridcolor\":\"white\",\"linecolor\":\"white\",\"ticks\":\"\"}},\"ternary\":{\"bgcolor\":\"#E5ECF6\",\"aaxis\":{\"gridcolor\":\"white\",\"linecolor\":\"white\",\"ticks\":\"\"},\"baxis\":{\"gridcolor\":\"white\",\"linecolor\":\"white\",\"ticks\":\"\"},\"caxis\":{\"gridcolor\":\"white\",\"linecolor\":\"white\",\"ticks\":\"\"}},\"coloraxis\":{\"colorbar\":{\"outlinewidth\":0,\"ticks\":\"\"}},\"colorscale\":{\"sequential\":[[0.0,\"#0d0887\"],[0.1111111111111111,\"#46039f\"],[0.2222222222222222,\"#7201a8\"],[0.3333333333333333,\"#9c179e\"],[0.4444444444444444,\"#bd3786\"],[0.5555555555555556,\"#d8576b\"],[0.6666666666666666,\"#ed7953\"],[0.7777777777777778,\"#fb9f3a\"],[0.8888888888888888,\"#fdca26\"],[1.0,\"#f0f921\"]],\"sequentialminus\":[[0.0,\"#0d0887\"],[0.1111111111111111,\"#46039f\"],[0.2222222222222222,\"#7201a8\"],[0.3333333333333333,\"#9c179e\"],[0.4444444444444444,\"#bd3786\"],[0.5555555555555556,\"#d8576b\"],[0.6666666666666666,\"#ed7953\"],[0.7777777777777778,\"#fb9f3a\"],[0.8888888888888888,\"#fdca26\"],[1.0,\"#f0f921\"]],\"diverging\":[[0,\"#8e0152\"],[0.1,\"#c51b7d\"],[0.2,\"#de77ae\"],[0.3,\"#f1b6da\"],[0.4,\"#fde0ef\"],[0.5,\"#f7f7f7\"],[0.6,\"#e6f5d0\"],[0.7,\"#b8e186\"],[0.8,\"#7fbc41\"],[0.9,\"#4d9221\"],[1,\"#276419\"]]},\"xaxis\":{\"gridcolor\":\"white\",\"linecolor\":\"white\",\"ticks\":\"\",\"title\":{\"standoff\":15},\"zerolinecolor\":\"white\",\"automargin\":true,\"zerolinewidth\":2},\"yaxis\":{\"gridcolor\":\"white\",\"linecolor\":\"white\",\"ticks\":\"\",\"title\":{\"standoff\":15},\"zerolinecolor\":\"white\",\"automargin\":true,\"zerolinewidth\":2},\"scene\":{\"xaxis\":{\"backgroundcolor\":\"#E5ECF6\",\"gridcolor\":\"white\",\"linecolor\":\"white\",\"showbackground\":true,\"ticks\":\"\",\"zerolinecolor\":\"white\",\"gridwidth\":2},\"yaxis\":{\"backgroundcolor\":\"#E5ECF6\",\"gridcolor\":\"white\",\"linecolor\":\"white\",\"showbackground\":true,\"ticks\":\"\",\"zerolinecolor\":\"white\",\"gridwidth\":2},\"zaxis\":{\"backgroundcolor\":\"#E5ECF6\",\"gridcolor\":\"white\",\"linecolor\":\"white\",\"showbackground\":true,\"ticks\":\"\",\"zerolinecolor\":\"white\",\"gridwidth\":2}},\"shapedefaults\":{\"line\":{\"color\":\"#2a3f5f\"}},\"annotationdefaults\":{\"arrowcolor\":\"#2a3f5f\",\"arrowhead\":0,\"arrowwidth\":1},\"geo\":{\"bgcolor\":\"white\",\"landcolor\":\"#E5ECF6\",\"subunitcolor\":\"white\",\"showland\":true,\"showlakes\":true,\"lakecolor\":\"white\"},\"title\":{\"x\":0.05},\"mapbox\":{\"style\":\"light\"}}},\"annotations\":[{\"font\":{\"color\":\"black\",\"size\":16},\"showarrow\":false,\"text\":\"2738 Tweets\",\"x\":0.5,\"y\":0.5}],\"title\":{\"text\":\"Tweet Sentiment Distribution - LLM Labeling\",\"x\":0.5}},                        {\"responsive\": true}                    ).then(function(){\n",
              "                            \n",
              "var gd = document.getElementById('d4759487-751b-4295-b180-777ec262cd6a');\n",
              "var x = new MutationObserver(function (mutations, observer) {{\n",
              "        var display = window.getComputedStyle(gd).display;\n",
              "        if (!display || display === 'none') {{\n",
              "            console.log([gd, 'removed!']);\n",
              "            Plotly.purge(gd);\n",
              "            observer.disconnect();\n",
              "        }}\n",
              "}});\n",
              "\n",
              "// Listen for the removal of the full notebook cells\n",
              "var notebookContainer = gd.closest('#notebook-container');\n",
              "if (notebookContainer) {{\n",
              "    x.observe(notebookContainer, {childList: true});\n",
              "}}\n",
              "\n",
              "// Listen for the clearing of the current output cell\n",
              "var outputEl = gd.closest('.output');\n",
              "if (outputEl) {{\n",
              "    x.observe(outputEl, {childList: true});\n",
              "}}\n",
              "\n",
              "                        })                };                            </script>        </div>\n",
              "</body>\n",
              "</html>"
            ]
          },
          "metadata": {}
        }
      ]
    },
    {
      "cell_type": "code",
      "source": [
        "!pip install -U kaleido\n",
        "from google.colab import files\n",
        "\n",
        "fig.write_image(\"ihsg_llm_sentiment.png\", scale=2)\n",
        "files.download(\"ihsg_llm_sentiment.png\")"
      ],
      "metadata": {
        "colab": {
          "base_uri": "https://localhost:8080/",
          "height": 35
        },
        "id": "eLpcPq3Jbd-y",
        "outputId": "07c5dfff-7185-46da-c809-3163a6a7d41f"
      },
      "execution_count": null,
      "outputs": [
        {
          "output_type": "stream",
          "name": "stdout",
          "text": [
            "Requirement already satisfied: kaleido in /usr/local/lib/python3.11/dist-packages (0.2.1)\n"
          ]
        },
        {
          "output_type": "display_data",
          "data": {
            "text/plain": [
              "<IPython.core.display.Javascript object>"
            ],
            "application/javascript": [
              "\n",
              "    async function download(id, filename, size) {\n",
              "      if (!google.colab.kernel.accessAllowed) {\n",
              "        return;\n",
              "      }\n",
              "      const div = document.createElement('div');\n",
              "      const label = document.createElement('label');\n",
              "      label.textContent = `Downloading \"${filename}\": `;\n",
              "      div.appendChild(label);\n",
              "      const progress = document.createElement('progress');\n",
              "      progress.max = size;\n",
              "      div.appendChild(progress);\n",
              "      document.body.appendChild(div);\n",
              "\n",
              "      const buffers = [];\n",
              "      let downloaded = 0;\n",
              "\n",
              "      const channel = await google.colab.kernel.comms.open(id);\n",
              "      // Send a message to notify the kernel that we're ready.\n",
              "      channel.send({})\n",
              "\n",
              "      for await (const message of channel.messages) {\n",
              "        // Send a message to notify the kernel that we're ready.\n",
              "        channel.send({})\n",
              "        if (message.buffers) {\n",
              "          for (const buffer of message.buffers) {\n",
              "            buffers.push(buffer);\n",
              "            downloaded += buffer.byteLength;\n",
              "            progress.value = downloaded;\n",
              "          }\n",
              "        }\n",
              "      }\n",
              "      const blob = new Blob(buffers, {type: 'application/binary'});\n",
              "      const a = document.createElement('a');\n",
              "      a.href = window.URL.createObjectURL(blob);\n",
              "      a.download = filename;\n",
              "      div.appendChild(a);\n",
              "      a.click();\n",
              "      div.remove();\n",
              "    }\n",
              "  "
            ]
          },
          "metadata": {}
        },
        {
          "output_type": "display_data",
          "data": {
            "text/plain": [
              "<IPython.core.display.Javascript object>"
            ],
            "application/javascript": [
              "download(\"download_62165e8a-9b17-4197-89ea-16fcbc5e0b47\", \"ihsg_llm_sentiment.png\", 98019)"
            ]
          },
          "metadata": {}
        }
      ]
    },
    {
      "cell_type": "code",
      "source": [
        "#@title Emotion - LLM Labeling\n",
        "\n",
        "emotion_order = ['Joy', 'Trust', 'Fear', 'Surprise', 'Sadness', 'Disgust', 'Anger', 'Anticipation']\n",
        "\n",
        "# Count the occurrences of each emotion\n",
        "emotion_counts = df['emotion'].value_counts()\n",
        "emotion_counts = emotion_counts.reindex(emotion_order).dropna()\n",
        "\n",
        "# Define colors for the donut chart using Plotly's qualitative D3 colors\n",
        "colors = {\n",
        "    'Joy': px.colors.qualitative.Set3[11],\n",
        "    'Trust': px.colors.qualitative.Set3[6],\n",
        "    'Fear': px.colors.qualitative.Set3[0],\n",
        "    'Surprise': px.colors.qualitative.Set3[2],\n",
        "    'Sadness': px.colors.qualitative.Set3[4],\n",
        "    'Disgust': px.colors.qualitative.Set3[9],\n",
        "    'Anger': px.colors.qualitative.Set3[3],\n",
        "    'Anticipation': px.colors.qualitative.Set3[5],\n",
        "}\n",
        "\n",
        "# Create the donut chart\n",
        "fig = go.Figure(data=[go.Pie(labels=emotion_counts.index,\n",
        "                             values=emotion_counts.values,\n",
        "                             hole=0.7,\n",
        "                             marker=dict(colors=[colors[emotion] for emotion in emotion_counts.index]))])\n",
        "\n",
        "\n",
        "\n",
        "# Add total df in the center\n",
        "fig.add_annotation(text=f\"{len(df)} Tweets\",\n",
        "                   x=0.5, y=0.5,\n",
        "                   font=dict(size=16, color=\"black\"),\n",
        "                   showarrow=False)\n",
        "\n",
        "# Add percentage labels\n",
        "fig.update_traces(textinfo='percent+label', textposition='inside')\n",
        "\n",
        "# Customize layout\n",
        "fig.update_layout(title=\"Tweet Emotion Distribution - LLM Labeling\", title_x=0.5)\n",
        "\n",
        "# Show the chart\n",
        "fig.show()\n"
      ],
      "metadata": {
        "colab": {
          "base_uri": "https://localhost:8080/",
          "height": 542
        },
        "id": "p0j5uymXbh_m",
        "outputId": "e2de69c1-d936-4597-9e5e-e61eb242184e"
      },
      "execution_count": null,
      "outputs": [
        {
          "output_type": "display_data",
          "data": {
            "text/html": [
              "<html>\n",
              "<head><meta charset=\"utf-8\" /></head>\n",
              "<body>\n",
              "    <div>            <script src=\"https://cdnjs.cloudflare.com/ajax/libs/mathjax/2.7.5/MathJax.js?config=TeX-AMS-MML_SVG\"></script><script type=\"text/javascript\">if (window.MathJax && window.MathJax.Hub && window.MathJax.Hub.Config) {window.MathJax.Hub.Config({SVG: {font: \"STIX-Web\"}});}</script>                <script type=\"text/javascript\">window.PlotlyConfig = {MathJaxConfig: 'local'};</script>\n",
              "        <script charset=\"utf-8\" src=\"https://cdn.plot.ly/plotly-2.35.2.min.js\"></script>                <div id=\"c7401b0f-e452-4033-a487-05a841b42d1c\" class=\"plotly-graph-div\" style=\"height:525px; width:100%;\"></div>            <script type=\"text/javascript\">                                    window.PLOTLYENV=window.PLOTLYENV || {};                                    if (document.getElementById(\"c7401b0f-e452-4033-a487-05a841b42d1c\")) {                    Plotly.newPlot(                        \"c7401b0f-e452-4033-a487-05a841b42d1c\",                        [{\"hole\":0.7,\"labels\":[\"Joy\",\"Trust\",\"Fear\",\"Surprise\",\"Sadness\",\"Disgust\",\"Anger\",\"Anticipation\"],\"marker\":{\"colors\":[\"rgb(255,237,111)\",\"rgb(179,222,105)\",\"rgb(141,211,199)\",\"rgb(190,186,218)\",\"rgb(128,177,211)\",\"rgb(188,128,189)\",\"rgb(251,128,114)\",\"rgb(253,180,98)\"]},\"values\":[133,193,1197,171,127,109,585,213],\"type\":\"pie\",\"textinfo\":\"percent+label\",\"textposition\":\"inside\"}],                        {\"template\":{\"data\":{\"histogram2dcontour\":[{\"type\":\"histogram2dcontour\",\"colorbar\":{\"outlinewidth\":0,\"ticks\":\"\"},\"colorscale\":[[0.0,\"#0d0887\"],[0.1111111111111111,\"#46039f\"],[0.2222222222222222,\"#7201a8\"],[0.3333333333333333,\"#9c179e\"],[0.4444444444444444,\"#bd3786\"],[0.5555555555555556,\"#d8576b\"],[0.6666666666666666,\"#ed7953\"],[0.7777777777777778,\"#fb9f3a\"],[0.8888888888888888,\"#fdca26\"],[1.0,\"#f0f921\"]]}],\"choropleth\":[{\"type\":\"choropleth\",\"colorbar\":{\"outlinewidth\":0,\"ticks\":\"\"}}],\"histogram2d\":[{\"type\":\"histogram2d\",\"colorbar\":{\"outlinewidth\":0,\"ticks\":\"\"},\"colorscale\":[[0.0,\"#0d0887\"],[0.1111111111111111,\"#46039f\"],[0.2222222222222222,\"#7201a8\"],[0.3333333333333333,\"#9c179e\"],[0.4444444444444444,\"#bd3786\"],[0.5555555555555556,\"#d8576b\"],[0.6666666666666666,\"#ed7953\"],[0.7777777777777778,\"#fb9f3a\"],[0.8888888888888888,\"#fdca26\"],[1.0,\"#f0f921\"]]}],\"heatmap\":[{\"type\":\"heatmap\",\"colorbar\":{\"outlinewidth\":0,\"ticks\":\"\"},\"colorscale\":[[0.0,\"#0d0887\"],[0.1111111111111111,\"#46039f\"],[0.2222222222222222,\"#7201a8\"],[0.3333333333333333,\"#9c179e\"],[0.4444444444444444,\"#bd3786\"],[0.5555555555555556,\"#d8576b\"],[0.6666666666666666,\"#ed7953\"],[0.7777777777777778,\"#fb9f3a\"],[0.8888888888888888,\"#fdca26\"],[1.0,\"#f0f921\"]]}],\"heatmapgl\":[{\"type\":\"heatmapgl\",\"colorbar\":{\"outlinewidth\":0,\"ticks\":\"\"},\"colorscale\":[[0.0,\"#0d0887\"],[0.1111111111111111,\"#46039f\"],[0.2222222222222222,\"#7201a8\"],[0.3333333333333333,\"#9c179e\"],[0.4444444444444444,\"#bd3786\"],[0.5555555555555556,\"#d8576b\"],[0.6666666666666666,\"#ed7953\"],[0.7777777777777778,\"#fb9f3a\"],[0.8888888888888888,\"#fdca26\"],[1.0,\"#f0f921\"]]}],\"contourcarpet\":[{\"type\":\"contourcarpet\",\"colorbar\":{\"outlinewidth\":0,\"ticks\":\"\"}}],\"contour\":[{\"type\":\"contour\",\"colorbar\":{\"outlinewidth\":0,\"ticks\":\"\"},\"colorscale\":[[0.0,\"#0d0887\"],[0.1111111111111111,\"#46039f\"],[0.2222222222222222,\"#7201a8\"],[0.3333333333333333,\"#9c179e\"],[0.4444444444444444,\"#bd3786\"],[0.5555555555555556,\"#d8576b\"],[0.6666666666666666,\"#ed7953\"],[0.7777777777777778,\"#fb9f3a\"],[0.8888888888888888,\"#fdca26\"],[1.0,\"#f0f921\"]]}],\"surface\":[{\"type\":\"surface\",\"colorbar\":{\"outlinewidth\":0,\"ticks\":\"\"},\"colorscale\":[[0.0,\"#0d0887\"],[0.1111111111111111,\"#46039f\"],[0.2222222222222222,\"#7201a8\"],[0.3333333333333333,\"#9c179e\"],[0.4444444444444444,\"#bd3786\"],[0.5555555555555556,\"#d8576b\"],[0.6666666666666666,\"#ed7953\"],[0.7777777777777778,\"#fb9f3a\"],[0.8888888888888888,\"#fdca26\"],[1.0,\"#f0f921\"]]}],\"mesh3d\":[{\"type\":\"mesh3d\",\"colorbar\":{\"outlinewidth\":0,\"ticks\":\"\"}}],\"scatter\":[{\"fillpattern\":{\"fillmode\":\"overlay\",\"size\":10,\"solidity\":0.2},\"type\":\"scatter\"}],\"parcoords\":[{\"type\":\"parcoords\",\"line\":{\"colorbar\":{\"outlinewidth\":0,\"ticks\":\"\"}}}],\"scatterpolargl\":[{\"type\":\"scatterpolargl\",\"marker\":{\"colorbar\":{\"outlinewidth\":0,\"ticks\":\"\"}}}],\"bar\":[{\"error_x\":{\"color\":\"#2a3f5f\"},\"error_y\":{\"color\":\"#2a3f5f\"},\"marker\":{\"line\":{\"color\":\"#E5ECF6\",\"width\":0.5},\"pattern\":{\"fillmode\":\"overlay\",\"size\":10,\"solidity\":0.2}},\"type\":\"bar\"}],\"scattergeo\":[{\"type\":\"scattergeo\",\"marker\":{\"colorbar\":{\"outlinewidth\":0,\"ticks\":\"\"}}}],\"scatterpolar\":[{\"type\":\"scatterpolar\",\"marker\":{\"colorbar\":{\"outlinewidth\":0,\"ticks\":\"\"}}}],\"histogram\":[{\"marker\":{\"pattern\":{\"fillmode\":\"overlay\",\"size\":10,\"solidity\":0.2}},\"type\":\"histogram\"}],\"scattergl\":[{\"type\":\"scattergl\",\"marker\":{\"colorbar\":{\"outlinewidth\":0,\"ticks\":\"\"}}}],\"scatter3d\":[{\"type\":\"scatter3d\",\"line\":{\"colorbar\":{\"outlinewidth\":0,\"ticks\":\"\"}},\"marker\":{\"colorbar\":{\"outlinewidth\":0,\"ticks\":\"\"}}}],\"scattermapbox\":[{\"type\":\"scattermapbox\",\"marker\":{\"colorbar\":{\"outlinewidth\":0,\"ticks\":\"\"}}}],\"scatterternary\":[{\"type\":\"scatterternary\",\"marker\":{\"colorbar\":{\"outlinewidth\":0,\"ticks\":\"\"}}}],\"scattercarpet\":[{\"type\":\"scattercarpet\",\"marker\":{\"colorbar\":{\"outlinewidth\":0,\"ticks\":\"\"}}}],\"carpet\":[{\"aaxis\":{\"endlinecolor\":\"#2a3f5f\",\"gridcolor\":\"white\",\"linecolor\":\"white\",\"minorgridcolor\":\"white\",\"startlinecolor\":\"#2a3f5f\"},\"baxis\":{\"endlinecolor\":\"#2a3f5f\",\"gridcolor\":\"white\",\"linecolor\":\"white\",\"minorgridcolor\":\"white\",\"startlinecolor\":\"#2a3f5f\"},\"type\":\"carpet\"}],\"table\":[{\"cells\":{\"fill\":{\"color\":\"#EBF0F8\"},\"line\":{\"color\":\"white\"}},\"header\":{\"fill\":{\"color\":\"#C8D4E3\"},\"line\":{\"color\":\"white\"}},\"type\":\"table\"}],\"barpolar\":[{\"marker\":{\"line\":{\"color\":\"#E5ECF6\",\"width\":0.5},\"pattern\":{\"fillmode\":\"overlay\",\"size\":10,\"solidity\":0.2}},\"type\":\"barpolar\"}],\"pie\":[{\"automargin\":true,\"type\":\"pie\"}]},\"layout\":{\"autotypenumbers\":\"strict\",\"colorway\":[\"#636efa\",\"#EF553B\",\"#00cc96\",\"#ab63fa\",\"#FFA15A\",\"#19d3f3\",\"#FF6692\",\"#B6E880\",\"#FF97FF\",\"#FECB52\"],\"font\":{\"color\":\"#2a3f5f\"},\"hovermode\":\"closest\",\"hoverlabel\":{\"align\":\"left\"},\"paper_bgcolor\":\"white\",\"plot_bgcolor\":\"#E5ECF6\",\"polar\":{\"bgcolor\":\"#E5ECF6\",\"angularaxis\":{\"gridcolor\":\"white\",\"linecolor\":\"white\",\"ticks\":\"\"},\"radialaxis\":{\"gridcolor\":\"white\",\"linecolor\":\"white\",\"ticks\":\"\"}},\"ternary\":{\"bgcolor\":\"#E5ECF6\",\"aaxis\":{\"gridcolor\":\"white\",\"linecolor\":\"white\",\"ticks\":\"\"},\"baxis\":{\"gridcolor\":\"white\",\"linecolor\":\"white\",\"ticks\":\"\"},\"caxis\":{\"gridcolor\":\"white\",\"linecolor\":\"white\",\"ticks\":\"\"}},\"coloraxis\":{\"colorbar\":{\"outlinewidth\":0,\"ticks\":\"\"}},\"colorscale\":{\"sequential\":[[0.0,\"#0d0887\"],[0.1111111111111111,\"#46039f\"],[0.2222222222222222,\"#7201a8\"],[0.3333333333333333,\"#9c179e\"],[0.4444444444444444,\"#bd3786\"],[0.5555555555555556,\"#d8576b\"],[0.6666666666666666,\"#ed7953\"],[0.7777777777777778,\"#fb9f3a\"],[0.8888888888888888,\"#fdca26\"],[1.0,\"#f0f921\"]],\"sequentialminus\":[[0.0,\"#0d0887\"],[0.1111111111111111,\"#46039f\"],[0.2222222222222222,\"#7201a8\"],[0.3333333333333333,\"#9c179e\"],[0.4444444444444444,\"#bd3786\"],[0.5555555555555556,\"#d8576b\"],[0.6666666666666666,\"#ed7953\"],[0.7777777777777778,\"#fb9f3a\"],[0.8888888888888888,\"#fdca26\"],[1.0,\"#f0f921\"]],\"diverging\":[[0,\"#8e0152\"],[0.1,\"#c51b7d\"],[0.2,\"#de77ae\"],[0.3,\"#f1b6da\"],[0.4,\"#fde0ef\"],[0.5,\"#f7f7f7\"],[0.6,\"#e6f5d0\"],[0.7,\"#b8e186\"],[0.8,\"#7fbc41\"],[0.9,\"#4d9221\"],[1,\"#276419\"]]},\"xaxis\":{\"gridcolor\":\"white\",\"linecolor\":\"white\",\"ticks\":\"\",\"title\":{\"standoff\":15},\"zerolinecolor\":\"white\",\"automargin\":true,\"zerolinewidth\":2},\"yaxis\":{\"gridcolor\":\"white\",\"linecolor\":\"white\",\"ticks\":\"\",\"title\":{\"standoff\":15},\"zerolinecolor\":\"white\",\"automargin\":true,\"zerolinewidth\":2},\"scene\":{\"xaxis\":{\"backgroundcolor\":\"#E5ECF6\",\"gridcolor\":\"white\",\"linecolor\":\"white\",\"showbackground\":true,\"ticks\":\"\",\"zerolinecolor\":\"white\",\"gridwidth\":2},\"yaxis\":{\"backgroundcolor\":\"#E5ECF6\",\"gridcolor\":\"white\",\"linecolor\":\"white\",\"showbackground\":true,\"ticks\":\"\",\"zerolinecolor\":\"white\",\"gridwidth\":2},\"zaxis\":{\"backgroundcolor\":\"#E5ECF6\",\"gridcolor\":\"white\",\"linecolor\":\"white\",\"showbackground\":true,\"ticks\":\"\",\"zerolinecolor\":\"white\",\"gridwidth\":2}},\"shapedefaults\":{\"line\":{\"color\":\"#2a3f5f\"}},\"annotationdefaults\":{\"arrowcolor\":\"#2a3f5f\",\"arrowhead\":0,\"arrowwidth\":1},\"geo\":{\"bgcolor\":\"white\",\"landcolor\":\"#E5ECF6\",\"subunitcolor\":\"white\",\"showland\":true,\"showlakes\":true,\"lakecolor\":\"white\"},\"title\":{\"x\":0.05},\"mapbox\":{\"style\":\"light\"}}},\"annotations\":[{\"font\":{\"color\":\"black\",\"size\":16},\"showarrow\":false,\"text\":\"2738 Tweets\",\"x\":0.5,\"y\":0.5}],\"title\":{\"text\":\"Tweet Emotion Distribution - LLM Labeling\",\"x\":0.5}},                        {\"responsive\": true}                    ).then(function(){\n",
              "                            \n",
              "var gd = document.getElementById('c7401b0f-e452-4033-a487-05a841b42d1c');\n",
              "var x = new MutationObserver(function (mutations, observer) {{\n",
              "        var display = window.getComputedStyle(gd).display;\n",
              "        if (!display || display === 'none') {{\n",
              "            console.log([gd, 'removed!']);\n",
              "            Plotly.purge(gd);\n",
              "            observer.disconnect();\n",
              "        }}\n",
              "}});\n",
              "\n",
              "// Listen for the removal of the full notebook cells\n",
              "var notebookContainer = gd.closest('#notebook-container');\n",
              "if (notebookContainer) {{\n",
              "    x.observe(notebookContainer, {childList: true});\n",
              "}}\n",
              "\n",
              "// Listen for the clearing of the current output cell\n",
              "var outputEl = gd.closest('.output');\n",
              "if (outputEl) {{\n",
              "    x.observe(outputEl, {childList: true});\n",
              "}}\n",
              "\n",
              "                        })                };                            </script>        </div>\n",
              "</body>\n",
              "</html>"
            ]
          },
          "metadata": {}
        }
      ]
    },
    {
      "cell_type": "code",
      "source": [
        "fig.write_image(\"ihsg_llm_emotion.png\", scale=2)\n",
        "files.download(\"ihsg_llm_emotion.png\")"
      ],
      "metadata": {
        "colab": {
          "base_uri": "https://localhost:8080/",
          "height": 17
        },
        "id": "xCAZaDVhbuSg",
        "outputId": "556f132c-a1c0-4035-8247-9198827be56a"
      },
      "execution_count": null,
      "outputs": [
        {
          "output_type": "display_data",
          "data": {
            "text/plain": [
              "<IPython.core.display.Javascript object>"
            ],
            "application/javascript": [
              "\n",
              "    async function download(id, filename, size) {\n",
              "      if (!google.colab.kernel.accessAllowed) {\n",
              "        return;\n",
              "      }\n",
              "      const div = document.createElement('div');\n",
              "      const label = document.createElement('label');\n",
              "      label.textContent = `Downloading \"${filename}\": `;\n",
              "      div.appendChild(label);\n",
              "      const progress = document.createElement('progress');\n",
              "      progress.max = size;\n",
              "      div.appendChild(progress);\n",
              "      document.body.appendChild(div);\n",
              "\n",
              "      const buffers = [];\n",
              "      let downloaded = 0;\n",
              "\n",
              "      const channel = await google.colab.kernel.comms.open(id);\n",
              "      // Send a message to notify the kernel that we're ready.\n",
              "      channel.send({})\n",
              "\n",
              "      for await (const message of channel.messages) {\n",
              "        // Send a message to notify the kernel that we're ready.\n",
              "        channel.send({})\n",
              "        if (message.buffers) {\n",
              "          for (const buffer of message.buffers) {\n",
              "            buffers.push(buffer);\n",
              "            downloaded += buffer.byteLength;\n",
              "            progress.value = downloaded;\n",
              "          }\n",
              "        }\n",
              "      }\n",
              "      const blob = new Blob(buffers, {type: 'application/binary'});\n",
              "      const a = document.createElement('a');\n",
              "      a.href = window.URL.createObjectURL(blob);\n",
              "      a.download = filename;\n",
              "      div.appendChild(a);\n",
              "      a.click();\n",
              "      div.remove();\n",
              "    }\n",
              "  "
            ]
          },
          "metadata": {}
        },
        {
          "output_type": "display_data",
          "data": {
            "text/plain": [
              "<IPython.core.display.Javascript object>"
            ],
            "application/javascript": [
              "download(\"download_47d2ce3f-35ae-42ec-9bc1-79adb7c5885e\", \"ihsg_llm_emotion.png\", 129819)"
            ]
          },
          "metadata": {}
        }
      ]
    },
    {
      "cell_type": "code",
      "source": [
        "#@title Sentiment over time (3H)\n",
        "import plotly.graph_objects as go\n",
        "import plotly.express as px\n",
        "\n",
        "import pandas as pd\n",
        "import matplotlib.pyplot as plt\n",
        "from datetime import datetime, timedelta\n",
        "\n",
        "# Convert 'date' column to datetime format\n",
        "df[\"date\"] = pd.to_datetime(df[\"created_at\"], format=\"%a %b %d %H:%M:%S %z %Y\")\n",
        "\n",
        "# Round down to the nearest 3-hour interval\n",
        "df[\"time_bin\"] = df[\"date\"].dt.floor(\"3H\")\n",
        "\n",
        "# Create custom time bin labels\n",
        "def format_time_bin(time):\n",
        "    end_time = time + timedelta(hours=3)\n",
        "    return f\"{time.strftime('%H.%M')} - {end_time.strftime('%H.%M')}\"\n",
        "\n",
        "df[\"time_bin\"] = df[\"time_bin\"].apply(format_time_bin)\n",
        "\n",
        "# Count occurrences of each sentiment per 3-hour interval\n",
        "sentiment_counts = df.groupby([\"time_bin\", \"sentiment\"]).size().unstack(fill_value=0)\n",
        "\n",
        "colors = {\n",
        "    'Negative': px.colors.qualitative.Vivid[9],\n",
        "    'Neutral': px.colors.qualitative.Pastel[10],\n",
        "    'Positive': px.colors.qualitative.Vivid[7]\n",
        "}\n",
        "\n",
        "# Plotting with Plotly\n",
        "fig = go.Figure()\n",
        "for sentiment in sentiment_counts.columns:\n",
        "    fig.add_trace(go.Scatter(\n",
        "        x=sentiment_counts.index,\n",
        "        y=sentiment_counts[sentiment],\n",
        "        mode='lines+markers',\n",
        "        name=sentiment,\n",
        "        line=dict(color=colors.get(sentiment, \"black\"))\n",
        "    ))\n",
        "\n",
        "fig.update_layout(\n",
        "    title=\"Sentiment Analysis Over Time (3-hour intervals) on March 18th\",\n",
        "    xaxis_title=\"Time (3-hour intervals) on March 18th\",\n",
        "    yaxis_title=\"Count of Sentiments\",\n",
        "    # xaxis=dict(tickangle=-45),\n",
        "    legend_title=\"Sentiment\",\n",
        "    template=\"plotly_white\"\n",
        ")\n",
        "\n",
        "fig.show()"
      ],
      "metadata": {
        "colab": {
          "base_uri": "https://localhost:8080/",
          "height": 578
        },
        "id": "ZRSi_ZOmgUG8",
        "outputId": "bf3dc157-434a-4496-ee21-cf698fe09edf"
      },
      "execution_count": null,
      "outputs": [
        {
          "output_type": "stream",
          "name": "stderr",
          "text": [
            "<ipython-input-5-8de787408f02>:13: FutureWarning: 'H' is deprecated and will be removed in a future version, please use 'h' instead.\n",
            "  df[\"time_bin\"] = df[\"date\"].dt.floor(\"3H\")\n"
          ]
        },
        {
          "output_type": "display_data",
          "data": {
            "text/html": [
              "<html>\n",
              "<head><meta charset=\"utf-8\" /></head>\n",
              "<body>\n",
              "    <div>            <script src=\"https://cdnjs.cloudflare.com/ajax/libs/mathjax/2.7.5/MathJax.js?config=TeX-AMS-MML_SVG\"></script><script type=\"text/javascript\">if (window.MathJax && window.MathJax.Hub && window.MathJax.Hub.Config) {window.MathJax.Hub.Config({SVG: {font: \"STIX-Web\"}});}</script>                <script type=\"text/javascript\">window.PlotlyConfig = {MathJaxConfig: 'local'};</script>\n",
              "        <script charset=\"utf-8\" src=\"https://cdn.plot.ly/plotly-2.35.2.min.js\"></script>                <div id=\"f76386ce-c35d-4c02-a65a-df874962673e\" class=\"plotly-graph-div\" style=\"height:525px; width:100%;\"></div>            <script type=\"text/javascript\">                                    window.PLOTLYENV=window.PLOTLYENV || {};                                    if (document.getElementById(\"f76386ce-c35d-4c02-a65a-df874962673e\")) {                    Plotly.newPlot(                        \"f76386ce-c35d-4c02-a65a-df874962673e\",                        [{\"line\":{\"color\":\"rgb(237, 100, 90)\"},\"mode\":\"lines+markers\",\"name\":\"Negative\",\"x\":[\"09.00 - 12.00\",\"12.00 - 15.00\",\"15.00 - 18.00\",\"18.00 - 21.00\",\"21.00 - 00.00\"],\"y\":[536,524,442,165,365],\"type\":\"scatter\"},{\"line\":{\"color\":\"rgb(179, 179, 179)\"},\"mode\":\"lines+markers\",\"name\":\"Neutral\",\"x\":[\"09.00 - 12.00\",\"12.00 - 15.00\",\"15.00 - 18.00\",\"18.00 - 21.00\",\"21.00 - 00.00\"],\"y\":[102,100,96,34,85],\"type\":\"scatter\"},{\"line\":{\"color\":\"rgb(47, 138, 196)\"},\"mode\":\"lines+markers\",\"name\":\"Positive\",\"x\":[\"09.00 - 12.00\",\"12.00 - 15.00\",\"15.00 - 18.00\",\"18.00 - 21.00\",\"21.00 - 00.00\"],\"y\":[77,85,52,23,52],\"type\":\"scatter\"}],                        {\"template\":{\"data\":{\"barpolar\":[{\"marker\":{\"line\":{\"color\":\"white\",\"width\":0.5},\"pattern\":{\"fillmode\":\"overlay\",\"size\":10,\"solidity\":0.2}},\"type\":\"barpolar\"}],\"bar\":[{\"error_x\":{\"color\":\"#2a3f5f\"},\"error_y\":{\"color\":\"#2a3f5f\"},\"marker\":{\"line\":{\"color\":\"white\",\"width\":0.5},\"pattern\":{\"fillmode\":\"overlay\",\"size\":10,\"solidity\":0.2}},\"type\":\"bar\"}],\"carpet\":[{\"aaxis\":{\"endlinecolor\":\"#2a3f5f\",\"gridcolor\":\"#C8D4E3\",\"linecolor\":\"#C8D4E3\",\"minorgridcolor\":\"#C8D4E3\",\"startlinecolor\":\"#2a3f5f\"},\"baxis\":{\"endlinecolor\":\"#2a3f5f\",\"gridcolor\":\"#C8D4E3\",\"linecolor\":\"#C8D4E3\",\"minorgridcolor\":\"#C8D4E3\",\"startlinecolor\":\"#2a3f5f\"},\"type\":\"carpet\"}],\"choropleth\":[{\"colorbar\":{\"outlinewidth\":0,\"ticks\":\"\"},\"type\":\"choropleth\"}],\"contourcarpet\":[{\"colorbar\":{\"outlinewidth\":0,\"ticks\":\"\"},\"type\":\"contourcarpet\"}],\"contour\":[{\"colorbar\":{\"outlinewidth\":0,\"ticks\":\"\"},\"colorscale\":[[0.0,\"#0d0887\"],[0.1111111111111111,\"#46039f\"],[0.2222222222222222,\"#7201a8\"],[0.3333333333333333,\"#9c179e\"],[0.4444444444444444,\"#bd3786\"],[0.5555555555555556,\"#d8576b\"],[0.6666666666666666,\"#ed7953\"],[0.7777777777777778,\"#fb9f3a\"],[0.8888888888888888,\"#fdca26\"],[1.0,\"#f0f921\"]],\"type\":\"contour\"}],\"heatmapgl\":[{\"colorbar\":{\"outlinewidth\":0,\"ticks\":\"\"},\"colorscale\":[[0.0,\"#0d0887\"],[0.1111111111111111,\"#46039f\"],[0.2222222222222222,\"#7201a8\"],[0.3333333333333333,\"#9c179e\"],[0.4444444444444444,\"#bd3786\"],[0.5555555555555556,\"#d8576b\"],[0.6666666666666666,\"#ed7953\"],[0.7777777777777778,\"#fb9f3a\"],[0.8888888888888888,\"#fdca26\"],[1.0,\"#f0f921\"]],\"type\":\"heatmapgl\"}],\"heatmap\":[{\"colorbar\":{\"outlinewidth\":0,\"ticks\":\"\"},\"colorscale\":[[0.0,\"#0d0887\"],[0.1111111111111111,\"#46039f\"],[0.2222222222222222,\"#7201a8\"],[0.3333333333333333,\"#9c179e\"],[0.4444444444444444,\"#bd3786\"],[0.5555555555555556,\"#d8576b\"],[0.6666666666666666,\"#ed7953\"],[0.7777777777777778,\"#fb9f3a\"],[0.8888888888888888,\"#fdca26\"],[1.0,\"#f0f921\"]],\"type\":\"heatmap\"}],\"histogram2dcontour\":[{\"colorbar\":{\"outlinewidth\":0,\"ticks\":\"\"},\"colorscale\":[[0.0,\"#0d0887\"],[0.1111111111111111,\"#46039f\"],[0.2222222222222222,\"#7201a8\"],[0.3333333333333333,\"#9c179e\"],[0.4444444444444444,\"#bd3786\"],[0.5555555555555556,\"#d8576b\"],[0.6666666666666666,\"#ed7953\"],[0.7777777777777778,\"#fb9f3a\"],[0.8888888888888888,\"#fdca26\"],[1.0,\"#f0f921\"]],\"type\":\"histogram2dcontour\"}],\"histogram2d\":[{\"colorbar\":{\"outlinewidth\":0,\"ticks\":\"\"},\"colorscale\":[[0.0,\"#0d0887\"],[0.1111111111111111,\"#46039f\"],[0.2222222222222222,\"#7201a8\"],[0.3333333333333333,\"#9c179e\"],[0.4444444444444444,\"#bd3786\"],[0.5555555555555556,\"#d8576b\"],[0.6666666666666666,\"#ed7953\"],[0.7777777777777778,\"#fb9f3a\"],[0.8888888888888888,\"#fdca26\"],[1.0,\"#f0f921\"]],\"type\":\"histogram2d\"}],\"histogram\":[{\"marker\":{\"pattern\":{\"fillmode\":\"overlay\",\"size\":10,\"solidity\":0.2}},\"type\":\"histogram\"}],\"mesh3d\":[{\"colorbar\":{\"outlinewidth\":0,\"ticks\":\"\"},\"type\":\"mesh3d\"}],\"parcoords\":[{\"line\":{\"colorbar\":{\"outlinewidth\":0,\"ticks\":\"\"}},\"type\":\"parcoords\"}],\"pie\":[{\"automargin\":true,\"type\":\"pie\"}],\"scatter3d\":[{\"line\":{\"colorbar\":{\"outlinewidth\":0,\"ticks\":\"\"}},\"marker\":{\"colorbar\":{\"outlinewidth\":0,\"ticks\":\"\"}},\"type\":\"scatter3d\"}],\"scattercarpet\":[{\"marker\":{\"colorbar\":{\"outlinewidth\":0,\"ticks\":\"\"}},\"type\":\"scattercarpet\"}],\"scattergeo\":[{\"marker\":{\"colorbar\":{\"outlinewidth\":0,\"ticks\":\"\"}},\"type\":\"scattergeo\"}],\"scattergl\":[{\"marker\":{\"colorbar\":{\"outlinewidth\":0,\"ticks\":\"\"}},\"type\":\"scattergl\"}],\"scattermapbox\":[{\"marker\":{\"colorbar\":{\"outlinewidth\":0,\"ticks\":\"\"}},\"type\":\"scattermapbox\"}],\"scatterpolargl\":[{\"marker\":{\"colorbar\":{\"outlinewidth\":0,\"ticks\":\"\"}},\"type\":\"scatterpolargl\"}],\"scatterpolar\":[{\"marker\":{\"colorbar\":{\"outlinewidth\":0,\"ticks\":\"\"}},\"type\":\"scatterpolar\"}],\"scatter\":[{\"fillpattern\":{\"fillmode\":\"overlay\",\"size\":10,\"solidity\":0.2},\"type\":\"scatter\"}],\"scatterternary\":[{\"marker\":{\"colorbar\":{\"outlinewidth\":0,\"ticks\":\"\"}},\"type\":\"scatterternary\"}],\"surface\":[{\"colorbar\":{\"outlinewidth\":0,\"ticks\":\"\"},\"colorscale\":[[0.0,\"#0d0887\"],[0.1111111111111111,\"#46039f\"],[0.2222222222222222,\"#7201a8\"],[0.3333333333333333,\"#9c179e\"],[0.4444444444444444,\"#bd3786\"],[0.5555555555555556,\"#d8576b\"],[0.6666666666666666,\"#ed7953\"],[0.7777777777777778,\"#fb9f3a\"],[0.8888888888888888,\"#fdca26\"],[1.0,\"#f0f921\"]],\"type\":\"surface\"}],\"table\":[{\"cells\":{\"fill\":{\"color\":\"#EBF0F8\"},\"line\":{\"color\":\"white\"}},\"header\":{\"fill\":{\"color\":\"#C8D4E3\"},\"line\":{\"color\":\"white\"}},\"type\":\"table\"}]},\"layout\":{\"annotationdefaults\":{\"arrowcolor\":\"#2a3f5f\",\"arrowhead\":0,\"arrowwidth\":1},\"autotypenumbers\":\"strict\",\"coloraxis\":{\"colorbar\":{\"outlinewidth\":0,\"ticks\":\"\"}},\"colorscale\":{\"diverging\":[[0,\"#8e0152\"],[0.1,\"#c51b7d\"],[0.2,\"#de77ae\"],[0.3,\"#f1b6da\"],[0.4,\"#fde0ef\"],[0.5,\"#f7f7f7\"],[0.6,\"#e6f5d0\"],[0.7,\"#b8e186\"],[0.8,\"#7fbc41\"],[0.9,\"#4d9221\"],[1,\"#276419\"]],\"sequential\":[[0.0,\"#0d0887\"],[0.1111111111111111,\"#46039f\"],[0.2222222222222222,\"#7201a8\"],[0.3333333333333333,\"#9c179e\"],[0.4444444444444444,\"#bd3786\"],[0.5555555555555556,\"#d8576b\"],[0.6666666666666666,\"#ed7953\"],[0.7777777777777778,\"#fb9f3a\"],[0.8888888888888888,\"#fdca26\"],[1.0,\"#f0f921\"]],\"sequentialminus\":[[0.0,\"#0d0887\"],[0.1111111111111111,\"#46039f\"],[0.2222222222222222,\"#7201a8\"],[0.3333333333333333,\"#9c179e\"],[0.4444444444444444,\"#bd3786\"],[0.5555555555555556,\"#d8576b\"],[0.6666666666666666,\"#ed7953\"],[0.7777777777777778,\"#fb9f3a\"],[0.8888888888888888,\"#fdca26\"],[1.0,\"#f0f921\"]]},\"colorway\":[\"#636efa\",\"#EF553B\",\"#00cc96\",\"#ab63fa\",\"#FFA15A\",\"#19d3f3\",\"#FF6692\",\"#B6E880\",\"#FF97FF\",\"#FECB52\"],\"font\":{\"color\":\"#2a3f5f\"},\"geo\":{\"bgcolor\":\"white\",\"lakecolor\":\"white\",\"landcolor\":\"white\",\"showlakes\":true,\"showland\":true,\"subunitcolor\":\"#C8D4E3\"},\"hoverlabel\":{\"align\":\"left\"},\"hovermode\":\"closest\",\"mapbox\":{\"style\":\"light\"},\"paper_bgcolor\":\"white\",\"plot_bgcolor\":\"white\",\"polar\":{\"angularaxis\":{\"gridcolor\":\"#EBF0F8\",\"linecolor\":\"#EBF0F8\",\"ticks\":\"\"},\"bgcolor\":\"white\",\"radialaxis\":{\"gridcolor\":\"#EBF0F8\",\"linecolor\":\"#EBF0F8\",\"ticks\":\"\"}},\"scene\":{\"xaxis\":{\"backgroundcolor\":\"white\",\"gridcolor\":\"#DFE8F3\",\"gridwidth\":2,\"linecolor\":\"#EBF0F8\",\"showbackground\":true,\"ticks\":\"\",\"zerolinecolor\":\"#EBF0F8\"},\"yaxis\":{\"backgroundcolor\":\"white\",\"gridcolor\":\"#DFE8F3\",\"gridwidth\":2,\"linecolor\":\"#EBF0F8\",\"showbackground\":true,\"ticks\":\"\",\"zerolinecolor\":\"#EBF0F8\"},\"zaxis\":{\"backgroundcolor\":\"white\",\"gridcolor\":\"#DFE8F3\",\"gridwidth\":2,\"linecolor\":\"#EBF0F8\",\"showbackground\":true,\"ticks\":\"\",\"zerolinecolor\":\"#EBF0F8\"}},\"shapedefaults\":{\"line\":{\"color\":\"#2a3f5f\"}},\"ternary\":{\"aaxis\":{\"gridcolor\":\"#DFE8F3\",\"linecolor\":\"#A2B1C6\",\"ticks\":\"\"},\"baxis\":{\"gridcolor\":\"#DFE8F3\",\"linecolor\":\"#A2B1C6\",\"ticks\":\"\"},\"bgcolor\":\"white\",\"caxis\":{\"gridcolor\":\"#DFE8F3\",\"linecolor\":\"#A2B1C6\",\"ticks\":\"\"}},\"title\":{\"x\":0.05},\"xaxis\":{\"automargin\":true,\"gridcolor\":\"#EBF0F8\",\"linecolor\":\"#EBF0F8\",\"ticks\":\"\",\"title\":{\"standoff\":15},\"zerolinecolor\":\"#EBF0F8\",\"zerolinewidth\":2},\"yaxis\":{\"automargin\":true,\"gridcolor\":\"#EBF0F8\",\"linecolor\":\"#EBF0F8\",\"ticks\":\"\",\"title\":{\"standoff\":15},\"zerolinecolor\":\"#EBF0F8\",\"zerolinewidth\":2}}},\"title\":{\"text\":\"Sentiment Analysis Over Time (3-hour intervals) on March 18th\"},\"xaxis\":{\"title\":{\"text\":\"Time (3-hour intervals) on March 18th\"}},\"yaxis\":{\"title\":{\"text\":\"Count of Sentiments\"}},\"legend\":{\"title\":{\"text\":\"Sentiment\"}}},                        {\"responsive\": true}                    ).then(function(){\n",
              "                            \n",
              "var gd = document.getElementById('f76386ce-c35d-4c02-a65a-df874962673e');\n",
              "var x = new MutationObserver(function (mutations, observer) {{\n",
              "        var display = window.getComputedStyle(gd).display;\n",
              "        if (!display || display === 'none') {{\n",
              "            console.log([gd, 'removed!']);\n",
              "            Plotly.purge(gd);\n",
              "            observer.disconnect();\n",
              "        }}\n",
              "}});\n",
              "\n",
              "// Listen for the removal of the full notebook cells\n",
              "var notebookContainer = gd.closest('#notebook-container');\n",
              "if (notebookContainer) {{\n",
              "    x.observe(notebookContainer, {childList: true});\n",
              "}}\n",
              "\n",
              "// Listen for the clearing of the current output cell\n",
              "var outputEl = gd.closest('.output');\n",
              "if (outputEl) {{\n",
              "    x.observe(outputEl, {childList: true});\n",
              "}}\n",
              "\n",
              "                        })                };                            </script>        </div>\n",
              "</body>\n",
              "</html>"
            ]
          },
          "metadata": {}
        }
      ]
    },
    {
      "cell_type": "code",
      "source": [
        "!pip install -U kaleido\n",
        "from google.colab import files\n",
        "\n",
        "fig.write_image(\"ihsg_llm_sentiment_otime3.png\", scale=2)\n",
        "files.download(\"ihsg_llm_sentiment_otime3.png\")"
      ],
      "metadata": {
        "colab": {
          "base_uri": "https://localhost:8080/",
          "height": 35
        },
        "id": "lvuhOXDfYLjD",
        "outputId": "3dc939c5-df50-401c-f768-5045a975b58d"
      },
      "execution_count": null,
      "outputs": [
        {
          "output_type": "stream",
          "name": "stdout",
          "text": [
            "Requirement already satisfied: kaleido in /usr/local/lib/python3.11/dist-packages (0.2.1)\n"
          ]
        },
        {
          "output_type": "display_data",
          "data": {
            "text/plain": [
              "<IPython.core.display.Javascript object>"
            ],
            "application/javascript": [
              "\n",
              "    async function download(id, filename, size) {\n",
              "      if (!google.colab.kernel.accessAllowed) {\n",
              "        return;\n",
              "      }\n",
              "      const div = document.createElement('div');\n",
              "      const label = document.createElement('label');\n",
              "      label.textContent = `Downloading \"${filename}\": `;\n",
              "      div.appendChild(label);\n",
              "      const progress = document.createElement('progress');\n",
              "      progress.max = size;\n",
              "      div.appendChild(progress);\n",
              "      document.body.appendChild(div);\n",
              "\n",
              "      const buffers = [];\n",
              "      let downloaded = 0;\n",
              "\n",
              "      const channel = await google.colab.kernel.comms.open(id);\n",
              "      // Send a message to notify the kernel that we're ready.\n",
              "      channel.send({})\n",
              "\n",
              "      for await (const message of channel.messages) {\n",
              "        // Send a message to notify the kernel that we're ready.\n",
              "        channel.send({})\n",
              "        if (message.buffers) {\n",
              "          for (const buffer of message.buffers) {\n",
              "            buffers.push(buffer);\n",
              "            downloaded += buffer.byteLength;\n",
              "            progress.value = downloaded;\n",
              "          }\n",
              "        }\n",
              "      }\n",
              "      const blob = new Blob(buffers, {type: 'application/binary'});\n",
              "      const a = document.createElement('a');\n",
              "      a.href = window.URL.createObjectURL(blob);\n",
              "      a.download = filename;\n",
              "      div.appendChild(a);\n",
              "      a.click();\n",
              "      div.remove();\n",
              "    }\n",
              "  "
            ]
          },
          "metadata": {}
        },
        {
          "output_type": "display_data",
          "data": {
            "text/plain": [
              "<IPython.core.display.Javascript object>"
            ],
            "application/javascript": [
              "download(\"download_1bf7df2b-e771-4921-a682-7515663372c5\", \"ihsg_llm_sentiment_otime3.png\", 127747)"
            ]
          },
          "metadata": {}
        }
      ]
    },
    {
      "cell_type": "code",
      "source": [
        "#@title Emotion over time (1 hour)\n",
        "import plotly.graph_objects as go\n",
        "import plotly.express as px\n",
        "\n",
        "import pandas as pd\n",
        "import matplotlib.pyplot as plt\n",
        "from datetime import datetime, timedelta\n",
        "\n",
        "# Convert 'date' column to datetime format\n",
        "df[\"date\"] = pd.to_datetime(df[\"created_at\"], format=\"%a %b %d %H:%M:%S %z %Y\")\n",
        "\n",
        "# Round down to the nearest 3-hour interval\n",
        "df[\"time_bin\"] = df[\"date\"].dt.floor(\"1H\")\n",
        "\n",
        "# Create custom time bin labels\n",
        "def format_time_bin(time):\n",
        "    end_time = time + timedelta(hours=1)\n",
        "    return f\"{time.strftime('%H.%M')} - {end_time.strftime('%H.%M')}\"\n",
        "\n",
        "df[\"time_bin\"] = df[\"time_bin\"].apply(format_time_bin)\n",
        "\n",
        "# Count occurrences of each emotion per 3-hour interval\n",
        "emotion_counts = df.groupby([\"time_bin\", \"emotion\"]).size().unstack(fill_value=0)\n",
        "\n",
        "colors = {\n",
        "    'Joy': px.colors.qualitative.Set3[11],\n",
        "    'Trust': px.colors.qualitative.Set3[6],\n",
        "    'Fear': px.colors.qualitative.Set3[0],\n",
        "    'Surprise': px.colors.qualitative.Set3[2],\n",
        "    'Sadness': px.colors.qualitative.Set3[4],\n",
        "    'Disgust': px.colors.qualitative.Set3[9],\n",
        "    'Anger': px.colors.qualitative.Set3[3],\n",
        "    'Anticipation': px.colors.qualitative.Set3[5],\n",
        "}\n",
        "\n",
        "# Plotting with Plotly\n",
        "fig = go.Figure()\n",
        "for emotion in emotion_counts.columns:\n",
        "    fig.add_trace(go.Scatter(\n",
        "        x=emotion_counts.index,\n",
        "        y=emotion_counts[emotion],\n",
        "        mode='lines+markers',\n",
        "        name=emotion,\n",
        "        line=dict(color=colors.get(emotion, \"black\"))\n",
        "    ))\n",
        "\n",
        "fig.update_layout(\n",
        "    title=\"Emotion Analysis Over Time (1-hour intervals) on March 18th\",\n",
        "    xaxis_title=\"Time (1-hour intervals) on March 18th\",\n",
        "    yaxis_title=\"Count of Emotions\",\n",
        "    # xaxis=dict(tickangle=-45),\n",
        "    legend_title=\"Emotion\",\n",
        "    template=\"plotly_white\"\n",
        ")\n",
        "\n",
        "fig.show()"
      ],
      "metadata": {
        "colab": {
          "base_uri": "https://localhost:8080/",
          "height": 578
        },
        "id": "UB1fg-ghWtDZ",
        "outputId": "f35f150e-5027-4ced-9823-d210fb09eb7b"
      },
      "execution_count": null,
      "outputs": [
        {
          "output_type": "stream",
          "name": "stderr",
          "text": [
            "<ipython-input-3-4bbcdaf99e59>:13: FutureWarning: 'H' is deprecated and will be removed in a future version, please use 'h' instead.\n",
            "  df[\"time_bin\"] = df[\"date\"].dt.floor(\"1H\")\n"
          ]
        },
        {
          "output_type": "display_data",
          "data": {
            "text/html": [
              "<html>\n",
              "<head><meta charset=\"utf-8\" /></head>\n",
              "<body>\n",
              "    <div>            <script src=\"https://cdnjs.cloudflare.com/ajax/libs/mathjax/2.7.5/MathJax.js?config=TeX-AMS-MML_SVG\"></script><script type=\"text/javascript\">if (window.MathJax && window.MathJax.Hub && window.MathJax.Hub.Config) {window.MathJax.Hub.Config({SVG: {font: \"STIX-Web\"}});}</script>                <script type=\"text/javascript\">window.PlotlyConfig = {MathJaxConfig: 'local'};</script>\n",
              "        <script charset=\"utf-8\" src=\"https://cdn.plot.ly/plotly-2.35.2.min.js\"></script>                <div id=\"3083a28c-c5c5-4999-bb23-4eab6d7f9ff2\" class=\"plotly-graph-div\" style=\"height:525px; width:100%;\"></div>            <script type=\"text/javascript\">                                    window.PLOTLYENV=window.PLOTLYENV || {};                                    if (document.getElementById(\"3083a28c-c5c5-4999-bb23-4eab6d7f9ff2\")) {                    Plotly.newPlot(                        \"3083a28c-c5c5-4999-bb23-4eab6d7f9ff2\",                        [{\"line\":{\"color\":\"rgb(251,128,114)\"},\"mode\":\"lines+markers\",\"name\":\"Anger\",\"x\":[\"09.00 - 10.00\",\"10.00 - 11.00\",\"11.00 - 12.00\",\"12.00 - 13.00\",\"13.00 - 14.00\",\"14.00 - 15.00\",\"15.00 - 16.00\",\"16.00 - 17.00\",\"17.00 - 18.00\",\"18.00 - 19.00\",\"19.00 - 20.00\",\"20.00 - 21.00\",\"21.00 - 22.00\",\"22.00 - 23.00\",\"23.00 - 00.00\"],\"y\":[38,53,46,65,58,37,52,45,34,12,16,17,47,36,29],\"type\":\"scatter\"},{\"line\":{\"color\":\"rgb(253,180,98)\"},\"mode\":\"lines+markers\",\"name\":\"Anticipation\",\"x\":[\"09.00 - 10.00\",\"10.00 - 11.00\",\"11.00 - 12.00\",\"12.00 - 13.00\",\"13.00 - 14.00\",\"14.00 - 15.00\",\"15.00 - 16.00\",\"16.00 - 17.00\",\"17.00 - 18.00\",\"18.00 - 19.00\",\"19.00 - 20.00\",\"20.00 - 21.00\",\"21.00 - 22.00\",\"22.00 - 23.00\",\"23.00 - 00.00\"],\"y\":[21,23,26,16,12,14,13,14,18,11,4,2,11,17,11],\"type\":\"scatter\"},{\"line\":{\"color\":\"rgb(188,128,189)\"},\"mode\":\"lines+markers\",\"name\":\"Disgust\",\"x\":[\"09.00 - 10.00\",\"10.00 - 11.00\",\"11.00 - 12.00\",\"12.00 - 13.00\",\"13.00 - 14.00\",\"14.00 - 15.00\",\"15.00 - 16.00\",\"16.00 - 17.00\",\"17.00 - 18.00\",\"18.00 - 19.00\",\"19.00 - 20.00\",\"20.00 - 21.00\",\"21.00 - 22.00\",\"22.00 - 23.00\",\"23.00 - 00.00\"],\"y\":[4,12,13,18,2,2,9,11,3,2,8,4,8,10,3],\"type\":\"scatter\"},{\"line\":{\"color\":\"rgb(141,211,199)\"},\"mode\":\"lines+markers\",\"name\":\"Fear\",\"x\":[\"09.00 - 10.00\",\"10.00 - 11.00\",\"11.00 - 12.00\",\"12.00 - 13.00\",\"13.00 - 14.00\",\"14.00 - 15.00\",\"15.00 - 16.00\",\"16.00 - 17.00\",\"17.00 - 18.00\",\"18.00 - 19.00\",\"19.00 - 20.00\",\"20.00 - 21.00\",\"21.00 - 22.00\",\"22.00 - 23.00\",\"23.00 - 00.00\"],\"y\":[104,124,95,117,91,102,103,96,54,34,36,33,75,70,63],\"type\":\"scatter\"},{\"line\":{\"color\":\"rgb(255,237,111)\"},\"mode\":\"lines+markers\",\"name\":\"Joy\",\"x\":[\"09.00 - 10.00\",\"10.00 - 11.00\",\"11.00 - 12.00\",\"12.00 - 13.00\",\"13.00 - 14.00\",\"14.00 - 15.00\",\"15.00 - 16.00\",\"16.00 - 17.00\",\"17.00 - 18.00\",\"18.00 - 19.00\",\"19.00 - 20.00\",\"20.00 - 21.00\",\"21.00 - 22.00\",\"22.00 - 23.00\",\"23.00 - 00.00\"],\"y\":[18,11,6,21,10,8,7,6,10,1,3,2,11,11,8],\"type\":\"scatter\"},{\"line\":{\"color\":\"black\"},\"mode\":\"lines+markers\",\"name\":\"Neutral\",\"x\":[\"09.00 - 10.00\",\"10.00 - 11.00\",\"11.00 - 12.00\",\"12.00 - 13.00\",\"13.00 - 14.00\",\"14.00 - 15.00\",\"15.00 - 16.00\",\"16.00 - 17.00\",\"17.00 - 18.00\",\"18.00 - 19.00\",\"19.00 - 20.00\",\"20.00 - 21.00\",\"21.00 - 22.00\",\"22.00 - 23.00\",\"23.00 - 00.00\"],\"y\":[0,2,0,0,1,0,2,1,2,1,1,0,0,0,0],\"type\":\"scatter\"},{\"line\":{\"color\":\"rgb(128,177,211)\"},\"mode\":\"lines+markers\",\"name\":\"Sadness\",\"x\":[\"09.00 - 10.00\",\"10.00 - 11.00\",\"11.00 - 12.00\",\"12.00 - 13.00\",\"13.00 - 14.00\",\"14.00 - 15.00\",\"15.00 - 16.00\",\"16.00 - 17.00\",\"17.00 - 18.00\",\"18.00 - 19.00\",\"19.00 - 20.00\",\"20.00 - 21.00\",\"21.00 - 22.00\",\"22.00 - 23.00\",\"23.00 - 00.00\"],\"y\":[13,16,10,10,9,15,17,5,7,2,2,3,3,5,10],\"type\":\"scatter\"},{\"line\":{\"color\":\"rgb(190,186,218)\"},\"mode\":\"lines+markers\",\"name\":\"Surprise\",\"x\":[\"09.00 - 10.00\",\"10.00 - 11.00\",\"11.00 - 12.00\",\"12.00 - 13.00\",\"13.00 - 14.00\",\"14.00 - 15.00\",\"15.00 - 16.00\",\"16.00 - 17.00\",\"17.00 - 18.00\",\"18.00 - 19.00\",\"19.00 - 20.00\",\"20.00 - 21.00\",\"21.00 - 22.00\",\"22.00 - 23.00\",\"23.00 - 00.00\"],\"y\":[17,10,11,13,20,13,18,10,11,5,1,7,17,10,8],\"type\":\"scatter\"},{\"line\":{\"color\":\"rgb(179,222,105)\"},\"mode\":\"lines+markers\",\"name\":\"Trust\",\"x\":[\"09.00 - 10.00\",\"10.00 - 11.00\",\"11.00 - 12.00\",\"12.00 - 13.00\",\"13.00 - 14.00\",\"14.00 - 15.00\",\"15.00 - 16.00\",\"16.00 - 17.00\",\"17.00 - 18.00\",\"18.00 - 19.00\",\"19.00 - 20.00\",\"20.00 - 21.00\",\"21.00 - 22.00\",\"22.00 - 23.00\",\"23.00 - 00.00\"],\"y\":[16,11,15,23,14,18,16,12,14,5,4,6,12,12,15],\"type\":\"scatter\"}],                        {\"template\":{\"data\":{\"barpolar\":[{\"marker\":{\"line\":{\"color\":\"white\",\"width\":0.5},\"pattern\":{\"fillmode\":\"overlay\",\"size\":10,\"solidity\":0.2}},\"type\":\"barpolar\"}],\"bar\":[{\"error_x\":{\"color\":\"#2a3f5f\"},\"error_y\":{\"color\":\"#2a3f5f\"},\"marker\":{\"line\":{\"color\":\"white\",\"width\":0.5},\"pattern\":{\"fillmode\":\"overlay\",\"size\":10,\"solidity\":0.2}},\"type\":\"bar\"}],\"carpet\":[{\"aaxis\":{\"endlinecolor\":\"#2a3f5f\",\"gridcolor\":\"#C8D4E3\",\"linecolor\":\"#C8D4E3\",\"minorgridcolor\":\"#C8D4E3\",\"startlinecolor\":\"#2a3f5f\"},\"baxis\":{\"endlinecolor\":\"#2a3f5f\",\"gridcolor\":\"#C8D4E3\",\"linecolor\":\"#C8D4E3\",\"minorgridcolor\":\"#C8D4E3\",\"startlinecolor\":\"#2a3f5f\"},\"type\":\"carpet\"}],\"choropleth\":[{\"colorbar\":{\"outlinewidth\":0,\"ticks\":\"\"},\"type\":\"choropleth\"}],\"contourcarpet\":[{\"colorbar\":{\"outlinewidth\":0,\"ticks\":\"\"},\"type\":\"contourcarpet\"}],\"contour\":[{\"colorbar\":{\"outlinewidth\":0,\"ticks\":\"\"},\"colorscale\":[[0.0,\"#0d0887\"],[0.1111111111111111,\"#46039f\"],[0.2222222222222222,\"#7201a8\"],[0.3333333333333333,\"#9c179e\"],[0.4444444444444444,\"#bd3786\"],[0.5555555555555556,\"#d8576b\"],[0.6666666666666666,\"#ed7953\"],[0.7777777777777778,\"#fb9f3a\"],[0.8888888888888888,\"#fdca26\"],[1.0,\"#f0f921\"]],\"type\":\"contour\"}],\"heatmapgl\":[{\"colorbar\":{\"outlinewidth\":0,\"ticks\":\"\"},\"colorscale\":[[0.0,\"#0d0887\"],[0.1111111111111111,\"#46039f\"],[0.2222222222222222,\"#7201a8\"],[0.3333333333333333,\"#9c179e\"],[0.4444444444444444,\"#bd3786\"],[0.5555555555555556,\"#d8576b\"],[0.6666666666666666,\"#ed7953\"],[0.7777777777777778,\"#fb9f3a\"],[0.8888888888888888,\"#fdca26\"],[1.0,\"#f0f921\"]],\"type\":\"heatmapgl\"}],\"heatmap\":[{\"colorbar\":{\"outlinewidth\":0,\"ticks\":\"\"},\"colorscale\":[[0.0,\"#0d0887\"],[0.1111111111111111,\"#46039f\"],[0.2222222222222222,\"#7201a8\"],[0.3333333333333333,\"#9c179e\"],[0.4444444444444444,\"#bd3786\"],[0.5555555555555556,\"#d8576b\"],[0.6666666666666666,\"#ed7953\"],[0.7777777777777778,\"#fb9f3a\"],[0.8888888888888888,\"#fdca26\"],[1.0,\"#f0f921\"]],\"type\":\"heatmap\"}],\"histogram2dcontour\":[{\"colorbar\":{\"outlinewidth\":0,\"ticks\":\"\"},\"colorscale\":[[0.0,\"#0d0887\"],[0.1111111111111111,\"#46039f\"],[0.2222222222222222,\"#7201a8\"],[0.3333333333333333,\"#9c179e\"],[0.4444444444444444,\"#bd3786\"],[0.5555555555555556,\"#d8576b\"],[0.6666666666666666,\"#ed7953\"],[0.7777777777777778,\"#fb9f3a\"],[0.8888888888888888,\"#fdca26\"],[1.0,\"#f0f921\"]],\"type\":\"histogram2dcontour\"}],\"histogram2d\":[{\"colorbar\":{\"outlinewidth\":0,\"ticks\":\"\"},\"colorscale\":[[0.0,\"#0d0887\"],[0.1111111111111111,\"#46039f\"],[0.2222222222222222,\"#7201a8\"],[0.3333333333333333,\"#9c179e\"],[0.4444444444444444,\"#bd3786\"],[0.5555555555555556,\"#d8576b\"],[0.6666666666666666,\"#ed7953\"],[0.7777777777777778,\"#fb9f3a\"],[0.8888888888888888,\"#fdca26\"],[1.0,\"#f0f921\"]],\"type\":\"histogram2d\"}],\"histogram\":[{\"marker\":{\"pattern\":{\"fillmode\":\"overlay\",\"size\":10,\"solidity\":0.2}},\"type\":\"histogram\"}],\"mesh3d\":[{\"colorbar\":{\"outlinewidth\":0,\"ticks\":\"\"},\"type\":\"mesh3d\"}],\"parcoords\":[{\"line\":{\"colorbar\":{\"outlinewidth\":0,\"ticks\":\"\"}},\"type\":\"parcoords\"}],\"pie\":[{\"automargin\":true,\"type\":\"pie\"}],\"scatter3d\":[{\"line\":{\"colorbar\":{\"outlinewidth\":0,\"ticks\":\"\"}},\"marker\":{\"colorbar\":{\"outlinewidth\":0,\"ticks\":\"\"}},\"type\":\"scatter3d\"}],\"scattercarpet\":[{\"marker\":{\"colorbar\":{\"outlinewidth\":0,\"ticks\":\"\"}},\"type\":\"scattercarpet\"}],\"scattergeo\":[{\"marker\":{\"colorbar\":{\"outlinewidth\":0,\"ticks\":\"\"}},\"type\":\"scattergeo\"}],\"scattergl\":[{\"marker\":{\"colorbar\":{\"outlinewidth\":0,\"ticks\":\"\"}},\"type\":\"scattergl\"}],\"scattermapbox\":[{\"marker\":{\"colorbar\":{\"outlinewidth\":0,\"ticks\":\"\"}},\"type\":\"scattermapbox\"}],\"scatterpolargl\":[{\"marker\":{\"colorbar\":{\"outlinewidth\":0,\"ticks\":\"\"}},\"type\":\"scatterpolargl\"}],\"scatterpolar\":[{\"marker\":{\"colorbar\":{\"outlinewidth\":0,\"ticks\":\"\"}},\"type\":\"scatterpolar\"}],\"scatter\":[{\"fillpattern\":{\"fillmode\":\"overlay\",\"size\":10,\"solidity\":0.2},\"type\":\"scatter\"}],\"scatterternary\":[{\"marker\":{\"colorbar\":{\"outlinewidth\":0,\"ticks\":\"\"}},\"type\":\"scatterternary\"}],\"surface\":[{\"colorbar\":{\"outlinewidth\":0,\"ticks\":\"\"},\"colorscale\":[[0.0,\"#0d0887\"],[0.1111111111111111,\"#46039f\"],[0.2222222222222222,\"#7201a8\"],[0.3333333333333333,\"#9c179e\"],[0.4444444444444444,\"#bd3786\"],[0.5555555555555556,\"#d8576b\"],[0.6666666666666666,\"#ed7953\"],[0.7777777777777778,\"#fb9f3a\"],[0.8888888888888888,\"#fdca26\"],[1.0,\"#f0f921\"]],\"type\":\"surface\"}],\"table\":[{\"cells\":{\"fill\":{\"color\":\"#EBF0F8\"},\"line\":{\"color\":\"white\"}},\"header\":{\"fill\":{\"color\":\"#C8D4E3\"},\"line\":{\"color\":\"white\"}},\"type\":\"table\"}]},\"layout\":{\"annotationdefaults\":{\"arrowcolor\":\"#2a3f5f\",\"arrowhead\":0,\"arrowwidth\":1},\"autotypenumbers\":\"strict\",\"coloraxis\":{\"colorbar\":{\"outlinewidth\":0,\"ticks\":\"\"}},\"colorscale\":{\"diverging\":[[0,\"#8e0152\"],[0.1,\"#c51b7d\"],[0.2,\"#de77ae\"],[0.3,\"#f1b6da\"],[0.4,\"#fde0ef\"],[0.5,\"#f7f7f7\"],[0.6,\"#e6f5d0\"],[0.7,\"#b8e186\"],[0.8,\"#7fbc41\"],[0.9,\"#4d9221\"],[1,\"#276419\"]],\"sequential\":[[0.0,\"#0d0887\"],[0.1111111111111111,\"#46039f\"],[0.2222222222222222,\"#7201a8\"],[0.3333333333333333,\"#9c179e\"],[0.4444444444444444,\"#bd3786\"],[0.5555555555555556,\"#d8576b\"],[0.6666666666666666,\"#ed7953\"],[0.7777777777777778,\"#fb9f3a\"],[0.8888888888888888,\"#fdca26\"],[1.0,\"#f0f921\"]],\"sequentialminus\":[[0.0,\"#0d0887\"],[0.1111111111111111,\"#46039f\"],[0.2222222222222222,\"#7201a8\"],[0.3333333333333333,\"#9c179e\"],[0.4444444444444444,\"#bd3786\"],[0.5555555555555556,\"#d8576b\"],[0.6666666666666666,\"#ed7953\"],[0.7777777777777778,\"#fb9f3a\"],[0.8888888888888888,\"#fdca26\"],[1.0,\"#f0f921\"]]},\"colorway\":[\"#636efa\",\"#EF553B\",\"#00cc96\",\"#ab63fa\",\"#FFA15A\",\"#19d3f3\",\"#FF6692\",\"#B6E880\",\"#FF97FF\",\"#FECB52\"],\"font\":{\"color\":\"#2a3f5f\"},\"geo\":{\"bgcolor\":\"white\",\"lakecolor\":\"white\",\"landcolor\":\"white\",\"showlakes\":true,\"showland\":true,\"subunitcolor\":\"#C8D4E3\"},\"hoverlabel\":{\"align\":\"left\"},\"hovermode\":\"closest\",\"mapbox\":{\"style\":\"light\"},\"paper_bgcolor\":\"white\",\"plot_bgcolor\":\"white\",\"polar\":{\"angularaxis\":{\"gridcolor\":\"#EBF0F8\",\"linecolor\":\"#EBF0F8\",\"ticks\":\"\"},\"bgcolor\":\"white\",\"radialaxis\":{\"gridcolor\":\"#EBF0F8\",\"linecolor\":\"#EBF0F8\",\"ticks\":\"\"}},\"scene\":{\"xaxis\":{\"backgroundcolor\":\"white\",\"gridcolor\":\"#DFE8F3\",\"gridwidth\":2,\"linecolor\":\"#EBF0F8\",\"showbackground\":true,\"ticks\":\"\",\"zerolinecolor\":\"#EBF0F8\"},\"yaxis\":{\"backgroundcolor\":\"white\",\"gridcolor\":\"#DFE8F3\",\"gridwidth\":2,\"linecolor\":\"#EBF0F8\",\"showbackground\":true,\"ticks\":\"\",\"zerolinecolor\":\"#EBF0F8\"},\"zaxis\":{\"backgroundcolor\":\"white\",\"gridcolor\":\"#DFE8F3\",\"gridwidth\":2,\"linecolor\":\"#EBF0F8\",\"showbackground\":true,\"ticks\":\"\",\"zerolinecolor\":\"#EBF0F8\"}},\"shapedefaults\":{\"line\":{\"color\":\"#2a3f5f\"}},\"ternary\":{\"aaxis\":{\"gridcolor\":\"#DFE8F3\",\"linecolor\":\"#A2B1C6\",\"ticks\":\"\"},\"baxis\":{\"gridcolor\":\"#DFE8F3\",\"linecolor\":\"#A2B1C6\",\"ticks\":\"\"},\"bgcolor\":\"white\",\"caxis\":{\"gridcolor\":\"#DFE8F3\",\"linecolor\":\"#A2B1C6\",\"ticks\":\"\"}},\"title\":{\"x\":0.05},\"xaxis\":{\"automargin\":true,\"gridcolor\":\"#EBF0F8\",\"linecolor\":\"#EBF0F8\",\"ticks\":\"\",\"title\":{\"standoff\":15},\"zerolinecolor\":\"#EBF0F8\",\"zerolinewidth\":2},\"yaxis\":{\"automargin\":true,\"gridcolor\":\"#EBF0F8\",\"linecolor\":\"#EBF0F8\",\"ticks\":\"\",\"title\":{\"standoff\":15},\"zerolinecolor\":\"#EBF0F8\",\"zerolinewidth\":2}}},\"title\":{\"text\":\"Emotion Analysis Over Time (1-hour intervals) on March 18th\"},\"xaxis\":{\"title\":{\"text\":\"Time (1-hour intervals) on March 18th\"}},\"yaxis\":{\"title\":{\"text\":\"Count of Emotions\"}},\"legend\":{\"title\":{\"text\":\"Emotion\"}}},                        {\"responsive\": true}                    ).then(function(){\n",
              "                            \n",
              "var gd = document.getElementById('3083a28c-c5c5-4999-bb23-4eab6d7f9ff2');\n",
              "var x = new MutationObserver(function (mutations, observer) {{\n",
              "        var display = window.getComputedStyle(gd).display;\n",
              "        if (!display || display === 'none') {{\n",
              "            console.log([gd, 'removed!']);\n",
              "            Plotly.purge(gd);\n",
              "            observer.disconnect();\n",
              "        }}\n",
              "}});\n",
              "\n",
              "// Listen for the removal of the full notebook cells\n",
              "var notebookContainer = gd.closest('#notebook-container');\n",
              "if (notebookContainer) {{\n",
              "    x.observe(notebookContainer, {childList: true});\n",
              "}}\n",
              "\n",
              "// Listen for the clearing of the current output cell\n",
              "var outputEl = gd.closest('.output');\n",
              "if (outputEl) {{\n",
              "    x.observe(outputEl, {childList: true});\n",
              "}}\n",
              "\n",
              "                        })                };                            </script>        </div>\n",
              "</body>\n",
              "</html>"
            ]
          },
          "metadata": {}
        }
      ]
    },
    {
      "cell_type": "code",
      "source": [
        "!pip install -U kaleido\n",
        "from google.colab import files\n",
        "\n",
        "fig.write_image(\"ihsg_llm_emotion_otime1.png\", scale=2)\n",
        "files.download(\"ihsg_llm_emotion_otime1.png\")"
      ],
      "metadata": {
        "colab": {
          "base_uri": "https://localhost:8080/",
          "height": 35
        },
        "id": "XJEfprAxYUe5",
        "outputId": "2dd6d97c-df1a-49bd-c508-9a5f871f6849"
      },
      "execution_count": null,
      "outputs": [
        {
          "output_type": "stream",
          "name": "stdout",
          "text": [
            "Requirement already satisfied: kaleido in /usr/local/lib/python3.11/dist-packages (0.2.1)\n"
          ]
        },
        {
          "output_type": "display_data",
          "data": {
            "text/plain": [
              "<IPython.core.display.Javascript object>"
            ],
            "application/javascript": [
              "\n",
              "    async function download(id, filename, size) {\n",
              "      if (!google.colab.kernel.accessAllowed) {\n",
              "        return;\n",
              "      }\n",
              "      const div = document.createElement('div');\n",
              "      const label = document.createElement('label');\n",
              "      label.textContent = `Downloading \"${filename}\": `;\n",
              "      div.appendChild(label);\n",
              "      const progress = document.createElement('progress');\n",
              "      progress.max = size;\n",
              "      div.appendChild(progress);\n",
              "      document.body.appendChild(div);\n",
              "\n",
              "      const buffers = [];\n",
              "      let downloaded = 0;\n",
              "\n",
              "      const channel = await google.colab.kernel.comms.open(id);\n",
              "      // Send a message to notify the kernel that we're ready.\n",
              "      channel.send({})\n",
              "\n",
              "      for await (const message of channel.messages) {\n",
              "        // Send a message to notify the kernel that we're ready.\n",
              "        channel.send({})\n",
              "        if (message.buffers) {\n",
              "          for (const buffer of message.buffers) {\n",
              "            buffers.push(buffer);\n",
              "            downloaded += buffer.byteLength;\n",
              "            progress.value = downloaded;\n",
              "          }\n",
              "        }\n",
              "      }\n",
              "      const blob = new Blob(buffers, {type: 'application/binary'});\n",
              "      const a = document.createElement('a');\n",
              "      a.href = window.URL.createObjectURL(blob);\n",
              "      a.download = filename;\n",
              "      div.appendChild(a);\n",
              "      a.click();\n",
              "      div.remove();\n",
              "    }\n",
              "  "
            ]
          },
          "metadata": {}
        },
        {
          "output_type": "display_data",
          "data": {
            "text/plain": [
              "<IPython.core.display.Javascript object>"
            ],
            "application/javascript": [
              "download(\"download_2351457c-a0cd-49b6-b14d-55bf96ce92dc\", \"ihsg_llm_emotion_otime1.png\", 215395)"
            ]
          },
          "metadata": {}
        }
      ]
    },
    {
      "cell_type": "markdown",
      "source": [
        "# HuggingFace Labelling"
      ],
      "metadata": {
        "id": "BRH8a_HeBmiR"
      }
    },
    {
      "cell_type": "code",
      "source": [
        "#@title Sentiment - HuggingFace Labeling\n",
        "\n",
        "import plotly.graph_objects as go\n",
        "import plotly.express as px\n",
        "\n",
        "# Count the occurrences of each sentiment\n",
        "sentiment_counts = df['sentiment_hf'].value_counts()\n",
        "\n",
        "# Define colors for each sentiment\n",
        "colors = {\n",
        "    'Negative': px.colors.qualitative.Vivid[9],\n",
        "    'Neutral': px.colors.qualitative.Pastel[10],\n",
        "    'Positive': px.colors.qualitative.Vivid[7]\n",
        "}\n",
        "\n",
        "# Create the donut chart\n",
        "fig = go.Figure(data=[go.Pie(labels=sentiment_counts.index,\n",
        "                             values=sentiment_counts.values,\n",
        "                             hole=0.7,\n",
        "                             marker=dict(colors=[colors[sentiment] for sentiment in sentiment_counts.index]))])\n",
        "\n",
        "# Add total df in the center\n",
        "fig.add_annotation(text=f\"{len(df)} Tweets\",\n",
        "                   x=0.5, y=0.5,\n",
        "                   font=dict(size=16, color=\"black\"),\n",
        "                   showarrow=False)\n",
        "\n",
        "# Add percentage labels\n",
        "fig.update_traces(textinfo='percent+label', textposition='inside')\n",
        "\n",
        "# Customize layout\n",
        "fig.update_layout(title=\"Tweet Sentiment Distribution - HuggingFace Labeling\", title_x=0.5)\n",
        "\n",
        "# Show the chart\n",
        "fig.show()"
      ],
      "metadata": {
        "colab": {
          "base_uri": "https://localhost:8080/",
          "height": 542
        },
        "id": "d1lDpkTyBhKm",
        "outputId": "13837510-f6fd-4863-e6d0-43ce89abc750"
      },
      "execution_count": null,
      "outputs": [
        {
          "output_type": "display_data",
          "data": {
            "text/html": [
              "<html>\n",
              "<head><meta charset=\"utf-8\" /></head>\n",
              "<body>\n",
              "    <div>            <script src=\"https://cdnjs.cloudflare.com/ajax/libs/mathjax/2.7.5/MathJax.js?config=TeX-AMS-MML_SVG\"></script><script type=\"text/javascript\">if (window.MathJax && window.MathJax.Hub && window.MathJax.Hub.Config) {window.MathJax.Hub.Config({SVG: {font: \"STIX-Web\"}});}</script>                <script type=\"text/javascript\">window.PlotlyConfig = {MathJaxConfig: 'local'};</script>\n",
              "        <script charset=\"utf-8\" src=\"https://cdn.plot.ly/plotly-2.35.2.min.js\"></script>                <div id=\"7ef81187-922c-4490-9f16-ac97eddf66eb\" class=\"plotly-graph-div\" style=\"height:525px; width:100%;\"></div>            <script type=\"text/javascript\">                                    window.PLOTLYENV=window.PLOTLYENV || {};                                    if (document.getElementById(\"7ef81187-922c-4490-9f16-ac97eddf66eb\")) {                    Plotly.newPlot(                        \"7ef81187-922c-4490-9f16-ac97eddf66eb\",                        [{\"hole\":0.7,\"labels\":[\"Negative\",\"Neutral\",\"Positive\"],\"marker\":{\"colors\":[\"rgb(237, 100, 90)\",\"rgb(179, 179, 179)\",\"rgb(47, 138, 196)\"]},\"values\":[1477,1155,106],\"type\":\"pie\",\"textinfo\":\"percent+label\",\"textposition\":\"inside\"}],                        {\"template\":{\"data\":{\"histogram2dcontour\":[{\"type\":\"histogram2dcontour\",\"colorbar\":{\"outlinewidth\":0,\"ticks\":\"\"},\"colorscale\":[[0.0,\"#0d0887\"],[0.1111111111111111,\"#46039f\"],[0.2222222222222222,\"#7201a8\"],[0.3333333333333333,\"#9c179e\"],[0.4444444444444444,\"#bd3786\"],[0.5555555555555556,\"#d8576b\"],[0.6666666666666666,\"#ed7953\"],[0.7777777777777778,\"#fb9f3a\"],[0.8888888888888888,\"#fdca26\"],[1.0,\"#f0f921\"]]}],\"choropleth\":[{\"type\":\"choropleth\",\"colorbar\":{\"outlinewidth\":0,\"ticks\":\"\"}}],\"histogram2d\":[{\"type\":\"histogram2d\",\"colorbar\":{\"outlinewidth\":0,\"ticks\":\"\"},\"colorscale\":[[0.0,\"#0d0887\"],[0.1111111111111111,\"#46039f\"],[0.2222222222222222,\"#7201a8\"],[0.3333333333333333,\"#9c179e\"],[0.4444444444444444,\"#bd3786\"],[0.5555555555555556,\"#d8576b\"],[0.6666666666666666,\"#ed7953\"],[0.7777777777777778,\"#fb9f3a\"],[0.8888888888888888,\"#fdca26\"],[1.0,\"#f0f921\"]]}],\"heatmap\":[{\"type\":\"heatmap\",\"colorbar\":{\"outlinewidth\":0,\"ticks\":\"\"},\"colorscale\":[[0.0,\"#0d0887\"],[0.1111111111111111,\"#46039f\"],[0.2222222222222222,\"#7201a8\"],[0.3333333333333333,\"#9c179e\"],[0.4444444444444444,\"#bd3786\"],[0.5555555555555556,\"#d8576b\"],[0.6666666666666666,\"#ed7953\"],[0.7777777777777778,\"#fb9f3a\"],[0.8888888888888888,\"#fdca26\"],[1.0,\"#f0f921\"]]}],\"heatmapgl\":[{\"type\":\"heatmapgl\",\"colorbar\":{\"outlinewidth\":0,\"ticks\":\"\"},\"colorscale\":[[0.0,\"#0d0887\"],[0.1111111111111111,\"#46039f\"],[0.2222222222222222,\"#7201a8\"],[0.3333333333333333,\"#9c179e\"],[0.4444444444444444,\"#bd3786\"],[0.5555555555555556,\"#d8576b\"],[0.6666666666666666,\"#ed7953\"],[0.7777777777777778,\"#fb9f3a\"],[0.8888888888888888,\"#fdca26\"],[1.0,\"#f0f921\"]]}],\"contourcarpet\":[{\"type\":\"contourcarpet\",\"colorbar\":{\"outlinewidth\":0,\"ticks\":\"\"}}],\"contour\":[{\"type\":\"contour\",\"colorbar\":{\"outlinewidth\":0,\"ticks\":\"\"},\"colorscale\":[[0.0,\"#0d0887\"],[0.1111111111111111,\"#46039f\"],[0.2222222222222222,\"#7201a8\"],[0.3333333333333333,\"#9c179e\"],[0.4444444444444444,\"#bd3786\"],[0.5555555555555556,\"#d8576b\"],[0.6666666666666666,\"#ed7953\"],[0.7777777777777778,\"#fb9f3a\"],[0.8888888888888888,\"#fdca26\"],[1.0,\"#f0f921\"]]}],\"surface\":[{\"type\":\"surface\",\"colorbar\":{\"outlinewidth\":0,\"ticks\":\"\"},\"colorscale\":[[0.0,\"#0d0887\"],[0.1111111111111111,\"#46039f\"],[0.2222222222222222,\"#7201a8\"],[0.3333333333333333,\"#9c179e\"],[0.4444444444444444,\"#bd3786\"],[0.5555555555555556,\"#d8576b\"],[0.6666666666666666,\"#ed7953\"],[0.7777777777777778,\"#fb9f3a\"],[0.8888888888888888,\"#fdca26\"],[1.0,\"#f0f921\"]]}],\"mesh3d\":[{\"type\":\"mesh3d\",\"colorbar\":{\"outlinewidth\":0,\"ticks\":\"\"}}],\"scatter\":[{\"fillpattern\":{\"fillmode\":\"overlay\",\"size\":10,\"solidity\":0.2},\"type\":\"scatter\"}],\"parcoords\":[{\"type\":\"parcoords\",\"line\":{\"colorbar\":{\"outlinewidth\":0,\"ticks\":\"\"}}}],\"scatterpolargl\":[{\"type\":\"scatterpolargl\",\"marker\":{\"colorbar\":{\"outlinewidth\":0,\"ticks\":\"\"}}}],\"bar\":[{\"error_x\":{\"color\":\"#2a3f5f\"},\"error_y\":{\"color\":\"#2a3f5f\"},\"marker\":{\"line\":{\"color\":\"#E5ECF6\",\"width\":0.5},\"pattern\":{\"fillmode\":\"overlay\",\"size\":10,\"solidity\":0.2}},\"type\":\"bar\"}],\"scattergeo\":[{\"type\":\"scattergeo\",\"marker\":{\"colorbar\":{\"outlinewidth\":0,\"ticks\":\"\"}}}],\"scatterpolar\":[{\"type\":\"scatterpolar\",\"marker\":{\"colorbar\":{\"outlinewidth\":0,\"ticks\":\"\"}}}],\"histogram\":[{\"marker\":{\"pattern\":{\"fillmode\":\"overlay\",\"size\":10,\"solidity\":0.2}},\"type\":\"histogram\"}],\"scattergl\":[{\"type\":\"scattergl\",\"marker\":{\"colorbar\":{\"outlinewidth\":0,\"ticks\":\"\"}}}],\"scatter3d\":[{\"type\":\"scatter3d\",\"line\":{\"colorbar\":{\"outlinewidth\":0,\"ticks\":\"\"}},\"marker\":{\"colorbar\":{\"outlinewidth\":0,\"ticks\":\"\"}}}],\"scattermapbox\":[{\"type\":\"scattermapbox\",\"marker\":{\"colorbar\":{\"outlinewidth\":0,\"ticks\":\"\"}}}],\"scatterternary\":[{\"type\":\"scatterternary\",\"marker\":{\"colorbar\":{\"outlinewidth\":0,\"ticks\":\"\"}}}],\"scattercarpet\":[{\"type\":\"scattercarpet\",\"marker\":{\"colorbar\":{\"outlinewidth\":0,\"ticks\":\"\"}}}],\"carpet\":[{\"aaxis\":{\"endlinecolor\":\"#2a3f5f\",\"gridcolor\":\"white\",\"linecolor\":\"white\",\"minorgridcolor\":\"white\",\"startlinecolor\":\"#2a3f5f\"},\"baxis\":{\"endlinecolor\":\"#2a3f5f\",\"gridcolor\":\"white\",\"linecolor\":\"white\",\"minorgridcolor\":\"white\",\"startlinecolor\":\"#2a3f5f\"},\"type\":\"carpet\"}],\"table\":[{\"cells\":{\"fill\":{\"color\":\"#EBF0F8\"},\"line\":{\"color\":\"white\"}},\"header\":{\"fill\":{\"color\":\"#C8D4E3\"},\"line\":{\"color\":\"white\"}},\"type\":\"table\"}],\"barpolar\":[{\"marker\":{\"line\":{\"color\":\"#E5ECF6\",\"width\":0.5},\"pattern\":{\"fillmode\":\"overlay\",\"size\":10,\"solidity\":0.2}},\"type\":\"barpolar\"}],\"pie\":[{\"automargin\":true,\"type\":\"pie\"}]},\"layout\":{\"autotypenumbers\":\"strict\",\"colorway\":[\"#636efa\",\"#EF553B\",\"#00cc96\",\"#ab63fa\",\"#FFA15A\",\"#19d3f3\",\"#FF6692\",\"#B6E880\",\"#FF97FF\",\"#FECB52\"],\"font\":{\"color\":\"#2a3f5f\"},\"hovermode\":\"closest\",\"hoverlabel\":{\"align\":\"left\"},\"paper_bgcolor\":\"white\",\"plot_bgcolor\":\"#E5ECF6\",\"polar\":{\"bgcolor\":\"#E5ECF6\",\"angularaxis\":{\"gridcolor\":\"white\",\"linecolor\":\"white\",\"ticks\":\"\"},\"radialaxis\":{\"gridcolor\":\"white\",\"linecolor\":\"white\",\"ticks\":\"\"}},\"ternary\":{\"bgcolor\":\"#E5ECF6\",\"aaxis\":{\"gridcolor\":\"white\",\"linecolor\":\"white\",\"ticks\":\"\"},\"baxis\":{\"gridcolor\":\"white\",\"linecolor\":\"white\",\"ticks\":\"\"},\"caxis\":{\"gridcolor\":\"white\",\"linecolor\":\"white\",\"ticks\":\"\"}},\"coloraxis\":{\"colorbar\":{\"outlinewidth\":0,\"ticks\":\"\"}},\"colorscale\":{\"sequential\":[[0.0,\"#0d0887\"],[0.1111111111111111,\"#46039f\"],[0.2222222222222222,\"#7201a8\"],[0.3333333333333333,\"#9c179e\"],[0.4444444444444444,\"#bd3786\"],[0.5555555555555556,\"#d8576b\"],[0.6666666666666666,\"#ed7953\"],[0.7777777777777778,\"#fb9f3a\"],[0.8888888888888888,\"#fdca26\"],[1.0,\"#f0f921\"]],\"sequentialminus\":[[0.0,\"#0d0887\"],[0.1111111111111111,\"#46039f\"],[0.2222222222222222,\"#7201a8\"],[0.3333333333333333,\"#9c179e\"],[0.4444444444444444,\"#bd3786\"],[0.5555555555555556,\"#d8576b\"],[0.6666666666666666,\"#ed7953\"],[0.7777777777777778,\"#fb9f3a\"],[0.8888888888888888,\"#fdca26\"],[1.0,\"#f0f921\"]],\"diverging\":[[0,\"#8e0152\"],[0.1,\"#c51b7d\"],[0.2,\"#de77ae\"],[0.3,\"#f1b6da\"],[0.4,\"#fde0ef\"],[0.5,\"#f7f7f7\"],[0.6,\"#e6f5d0\"],[0.7,\"#b8e186\"],[0.8,\"#7fbc41\"],[0.9,\"#4d9221\"],[1,\"#276419\"]]},\"xaxis\":{\"gridcolor\":\"white\",\"linecolor\":\"white\",\"ticks\":\"\",\"title\":{\"standoff\":15},\"zerolinecolor\":\"white\",\"automargin\":true,\"zerolinewidth\":2},\"yaxis\":{\"gridcolor\":\"white\",\"linecolor\":\"white\",\"ticks\":\"\",\"title\":{\"standoff\":15},\"zerolinecolor\":\"white\",\"automargin\":true,\"zerolinewidth\":2},\"scene\":{\"xaxis\":{\"backgroundcolor\":\"#E5ECF6\",\"gridcolor\":\"white\",\"linecolor\":\"white\",\"showbackground\":true,\"ticks\":\"\",\"zerolinecolor\":\"white\",\"gridwidth\":2},\"yaxis\":{\"backgroundcolor\":\"#E5ECF6\",\"gridcolor\":\"white\",\"linecolor\":\"white\",\"showbackground\":true,\"ticks\":\"\",\"zerolinecolor\":\"white\",\"gridwidth\":2},\"zaxis\":{\"backgroundcolor\":\"#E5ECF6\",\"gridcolor\":\"white\",\"linecolor\":\"white\",\"showbackground\":true,\"ticks\":\"\",\"zerolinecolor\":\"white\",\"gridwidth\":2}},\"shapedefaults\":{\"line\":{\"color\":\"#2a3f5f\"}},\"annotationdefaults\":{\"arrowcolor\":\"#2a3f5f\",\"arrowhead\":0,\"arrowwidth\":1},\"geo\":{\"bgcolor\":\"white\",\"landcolor\":\"#E5ECF6\",\"subunitcolor\":\"white\",\"showland\":true,\"showlakes\":true,\"lakecolor\":\"white\"},\"title\":{\"x\":0.05},\"mapbox\":{\"style\":\"light\"}}},\"annotations\":[{\"font\":{\"color\":\"black\",\"size\":16},\"showarrow\":false,\"text\":\"2738 Tweets\",\"x\":0.5,\"y\":0.5}],\"title\":{\"text\":\"Tweet Sentiment Distribution - HuggingFace Labeling\",\"x\":0.5}},                        {\"responsive\": true}                    ).then(function(){\n",
              "                            \n",
              "var gd = document.getElementById('7ef81187-922c-4490-9f16-ac97eddf66eb');\n",
              "var x = new MutationObserver(function (mutations, observer) {{\n",
              "        var display = window.getComputedStyle(gd).display;\n",
              "        if (!display || display === 'none') {{\n",
              "            console.log([gd, 'removed!']);\n",
              "            Plotly.purge(gd);\n",
              "            observer.disconnect();\n",
              "        }}\n",
              "}});\n",
              "\n",
              "// Listen for the removal of the full notebook cells\n",
              "var notebookContainer = gd.closest('#notebook-container');\n",
              "if (notebookContainer) {{\n",
              "    x.observe(notebookContainer, {childList: true});\n",
              "}}\n",
              "\n",
              "// Listen for the clearing of the current output cell\n",
              "var outputEl = gd.closest('.output');\n",
              "if (outputEl) {{\n",
              "    x.observe(outputEl, {childList: true});\n",
              "}}\n",
              "\n",
              "                        })                };                            </script>        </div>\n",
              "</body>\n",
              "</html>"
            ]
          },
          "metadata": {}
        }
      ]
    },
    {
      "cell_type": "code",
      "source": [
        "!pip install -U kaleido -q\n",
        "from google.colab import files\n",
        "\n",
        "fig.write_image(\"ihsg_hf_sentiment.png\", scale=2)\n",
        "files.download(\"ihsg_hf_sentiment.png\")"
      ],
      "metadata": {
        "colab": {
          "base_uri": "https://localhost:8080/",
          "height": 17
        },
        "id": "TrDuVG1jCSy5",
        "outputId": "ba4433d6-9f24-4a02-8bdc-18c9c652f9d0"
      },
      "execution_count": null,
      "outputs": [
        {
          "output_type": "display_data",
          "data": {
            "text/plain": [
              "<IPython.core.display.Javascript object>"
            ],
            "application/javascript": [
              "\n",
              "    async function download(id, filename, size) {\n",
              "      if (!google.colab.kernel.accessAllowed) {\n",
              "        return;\n",
              "      }\n",
              "      const div = document.createElement('div');\n",
              "      const label = document.createElement('label');\n",
              "      label.textContent = `Downloading \"${filename}\": `;\n",
              "      div.appendChild(label);\n",
              "      const progress = document.createElement('progress');\n",
              "      progress.max = size;\n",
              "      div.appendChild(progress);\n",
              "      document.body.appendChild(div);\n",
              "\n",
              "      const buffers = [];\n",
              "      let downloaded = 0;\n",
              "\n",
              "      const channel = await google.colab.kernel.comms.open(id);\n",
              "      // Send a message to notify the kernel that we're ready.\n",
              "      channel.send({})\n",
              "\n",
              "      for await (const message of channel.messages) {\n",
              "        // Send a message to notify the kernel that we're ready.\n",
              "        channel.send({})\n",
              "        if (message.buffers) {\n",
              "          for (const buffer of message.buffers) {\n",
              "            buffers.push(buffer);\n",
              "            downloaded += buffer.byteLength;\n",
              "            progress.value = downloaded;\n",
              "          }\n",
              "        }\n",
              "      }\n",
              "      const blob = new Blob(buffers, {type: 'application/binary'});\n",
              "      const a = document.createElement('a');\n",
              "      a.href = window.URL.createObjectURL(blob);\n",
              "      a.download = filename;\n",
              "      div.appendChild(a);\n",
              "      a.click();\n",
              "      div.remove();\n",
              "    }\n",
              "  "
            ]
          },
          "metadata": {}
        },
        {
          "output_type": "display_data",
          "data": {
            "text/plain": [
              "<IPython.core.display.Javascript object>"
            ],
            "application/javascript": [
              "download(\"download_44776c52-9f7f-4e80-a730-ab7c88b81c16\", \"ihsg_hf_sentiment.png\", 98249)"
            ]
          },
          "metadata": {}
        }
      ]
    },
    {
      "cell_type": "code",
      "source": [
        "#@title Emotion - HuggingFace Labeling\n",
        "\n",
        "emotion_order = ['Joy', 'Trust', 'Fear', 'Surprise', 'Sadness', 'Disgust', 'Anger', 'Anticipation']\n",
        "\n",
        "# Count the occurrences of each emotion\n",
        "emotion_counts = df['emotion_hf'].value_counts()\n",
        "emotion_counts = emotion_counts.reindex(emotion_order).dropna()\n",
        "\n",
        "# Define colors for the donut chart using Plotly's qualitative D3 colors\n",
        "colors = {\n",
        "    'Joy': px.colors.qualitative.Set3[11],\n",
        "    'Trust': px.colors.qualitative.Set3[6],\n",
        "    'Fear': px.colors.qualitative.Set3[0],\n",
        "    'Surprise': px.colors.qualitative.Set3[2],\n",
        "    'Sadness': px.colors.qualitative.Set3[4],\n",
        "    'Disgust': px.colors.qualitative.Set3[9],\n",
        "    'Anger': px.colors.qualitative.Set3[3],\n",
        "    'Anticipation': px.colors.qualitative.Set3[5],\n",
        "}\n",
        "\n",
        "# Create the donut chart\n",
        "fig = go.Figure(data=[go.Pie(labels=emotion_counts.index,\n",
        "                             values=emotion_counts.values,\n",
        "                             hole=0.7,\n",
        "                             marker=dict(colors=[colors[emotion] for emotion in emotion_counts.index]))])\n",
        "\n",
        "\n",
        "\n",
        "# Add total df in the center\n",
        "fig.add_annotation(text=f\"{len(df)} Tweets\",\n",
        "                   x=0.5, y=0.5,\n",
        "                   font=dict(size=16, color=\"black\"),\n",
        "                   showarrow=False)\n",
        "\n",
        "# Add percentage labels\n",
        "fig.update_traces(textinfo='percent+label', textposition='inside')\n",
        "\n",
        "# Customize layout\n",
        "fig.update_layout(title=\"Tweet Emotion Distribution - HuggingFace Labeling\", title_x=0.5)\n",
        "\n",
        "# Show the chart\n",
        "fig.show()\n"
      ],
      "metadata": {
        "colab": {
          "base_uri": "https://localhost:8080/",
          "height": 542
        },
        "id": "hrKgUeZ5CDwF",
        "outputId": "e17caff5-f928-4144-f130-65a142fd4b29"
      },
      "execution_count": null,
      "outputs": [
        {
          "output_type": "display_data",
          "data": {
            "text/html": [
              "<html>\n",
              "<head><meta charset=\"utf-8\" /></head>\n",
              "<body>\n",
              "    <div>            <script src=\"https://cdnjs.cloudflare.com/ajax/libs/mathjax/2.7.5/MathJax.js?config=TeX-AMS-MML_SVG\"></script><script type=\"text/javascript\">if (window.MathJax && window.MathJax.Hub && window.MathJax.Hub.Config) {window.MathJax.Hub.Config({SVG: {font: \"STIX-Web\"}});}</script>                <script type=\"text/javascript\">window.PlotlyConfig = {MathJaxConfig: 'local'};</script>\n",
              "        <script charset=\"utf-8\" src=\"https://cdn.plot.ly/plotly-2.35.2.min.js\"></script>                <div id=\"ee311030-6519-4332-b14f-7fe11c9a0764\" class=\"plotly-graph-div\" style=\"height:525px; width:100%;\"></div>            <script type=\"text/javascript\">                                    window.PLOTLYENV=window.PLOTLYENV || {};                                    if (document.getElementById(\"ee311030-6519-4332-b14f-7fe11c9a0764\")) {                    Plotly.newPlot(                        \"ee311030-6519-4332-b14f-7fe11c9a0764\",                        [{\"hole\":0.7,\"labels\":[\"Joy\",\"Trust\",\"Fear\",\"Surprise\",\"Sadness\",\"Disgust\",\"Anger\",\"Anticipation\"],\"marker\":{\"colors\":[\"rgb(255,237,111)\",\"rgb(179,222,105)\",\"rgb(141,211,199)\",\"rgb(190,186,218)\",\"rgb(128,177,211)\",\"rgb(188,128,189)\",\"rgb(251,128,114)\",\"rgb(253,180,98)\"]},\"values\":[115,407,408,369,369,88,444,538],\"type\":\"pie\",\"textinfo\":\"percent+label\",\"textposition\":\"inside\"}],                        {\"template\":{\"data\":{\"histogram2dcontour\":[{\"type\":\"histogram2dcontour\",\"colorbar\":{\"outlinewidth\":0,\"ticks\":\"\"},\"colorscale\":[[0.0,\"#0d0887\"],[0.1111111111111111,\"#46039f\"],[0.2222222222222222,\"#7201a8\"],[0.3333333333333333,\"#9c179e\"],[0.4444444444444444,\"#bd3786\"],[0.5555555555555556,\"#d8576b\"],[0.6666666666666666,\"#ed7953\"],[0.7777777777777778,\"#fb9f3a\"],[0.8888888888888888,\"#fdca26\"],[1.0,\"#f0f921\"]]}],\"choropleth\":[{\"type\":\"choropleth\",\"colorbar\":{\"outlinewidth\":0,\"ticks\":\"\"}}],\"histogram2d\":[{\"type\":\"histogram2d\",\"colorbar\":{\"outlinewidth\":0,\"ticks\":\"\"},\"colorscale\":[[0.0,\"#0d0887\"],[0.1111111111111111,\"#46039f\"],[0.2222222222222222,\"#7201a8\"],[0.3333333333333333,\"#9c179e\"],[0.4444444444444444,\"#bd3786\"],[0.5555555555555556,\"#d8576b\"],[0.6666666666666666,\"#ed7953\"],[0.7777777777777778,\"#fb9f3a\"],[0.8888888888888888,\"#fdca26\"],[1.0,\"#f0f921\"]]}],\"heatmap\":[{\"type\":\"heatmap\",\"colorbar\":{\"outlinewidth\":0,\"ticks\":\"\"},\"colorscale\":[[0.0,\"#0d0887\"],[0.1111111111111111,\"#46039f\"],[0.2222222222222222,\"#7201a8\"],[0.3333333333333333,\"#9c179e\"],[0.4444444444444444,\"#bd3786\"],[0.5555555555555556,\"#d8576b\"],[0.6666666666666666,\"#ed7953\"],[0.7777777777777778,\"#fb9f3a\"],[0.8888888888888888,\"#fdca26\"],[1.0,\"#f0f921\"]]}],\"heatmapgl\":[{\"type\":\"heatmapgl\",\"colorbar\":{\"outlinewidth\":0,\"ticks\":\"\"},\"colorscale\":[[0.0,\"#0d0887\"],[0.1111111111111111,\"#46039f\"],[0.2222222222222222,\"#7201a8\"],[0.3333333333333333,\"#9c179e\"],[0.4444444444444444,\"#bd3786\"],[0.5555555555555556,\"#d8576b\"],[0.6666666666666666,\"#ed7953\"],[0.7777777777777778,\"#fb9f3a\"],[0.8888888888888888,\"#fdca26\"],[1.0,\"#f0f921\"]]}],\"contourcarpet\":[{\"type\":\"contourcarpet\",\"colorbar\":{\"outlinewidth\":0,\"ticks\":\"\"}}],\"contour\":[{\"type\":\"contour\",\"colorbar\":{\"outlinewidth\":0,\"ticks\":\"\"},\"colorscale\":[[0.0,\"#0d0887\"],[0.1111111111111111,\"#46039f\"],[0.2222222222222222,\"#7201a8\"],[0.3333333333333333,\"#9c179e\"],[0.4444444444444444,\"#bd3786\"],[0.5555555555555556,\"#d8576b\"],[0.6666666666666666,\"#ed7953\"],[0.7777777777777778,\"#fb9f3a\"],[0.8888888888888888,\"#fdca26\"],[1.0,\"#f0f921\"]]}],\"surface\":[{\"type\":\"surface\",\"colorbar\":{\"outlinewidth\":0,\"ticks\":\"\"},\"colorscale\":[[0.0,\"#0d0887\"],[0.1111111111111111,\"#46039f\"],[0.2222222222222222,\"#7201a8\"],[0.3333333333333333,\"#9c179e\"],[0.4444444444444444,\"#bd3786\"],[0.5555555555555556,\"#d8576b\"],[0.6666666666666666,\"#ed7953\"],[0.7777777777777778,\"#fb9f3a\"],[0.8888888888888888,\"#fdca26\"],[1.0,\"#f0f921\"]]}],\"mesh3d\":[{\"type\":\"mesh3d\",\"colorbar\":{\"outlinewidth\":0,\"ticks\":\"\"}}],\"scatter\":[{\"fillpattern\":{\"fillmode\":\"overlay\",\"size\":10,\"solidity\":0.2},\"type\":\"scatter\"}],\"parcoords\":[{\"type\":\"parcoords\",\"line\":{\"colorbar\":{\"outlinewidth\":0,\"ticks\":\"\"}}}],\"scatterpolargl\":[{\"type\":\"scatterpolargl\",\"marker\":{\"colorbar\":{\"outlinewidth\":0,\"ticks\":\"\"}}}],\"bar\":[{\"error_x\":{\"color\":\"#2a3f5f\"},\"error_y\":{\"color\":\"#2a3f5f\"},\"marker\":{\"line\":{\"color\":\"#E5ECF6\",\"width\":0.5},\"pattern\":{\"fillmode\":\"overlay\",\"size\":10,\"solidity\":0.2}},\"type\":\"bar\"}],\"scattergeo\":[{\"type\":\"scattergeo\",\"marker\":{\"colorbar\":{\"outlinewidth\":0,\"ticks\":\"\"}}}],\"scatterpolar\":[{\"type\":\"scatterpolar\",\"marker\":{\"colorbar\":{\"outlinewidth\":0,\"ticks\":\"\"}}}],\"histogram\":[{\"marker\":{\"pattern\":{\"fillmode\":\"overlay\",\"size\":10,\"solidity\":0.2}},\"type\":\"histogram\"}],\"scattergl\":[{\"type\":\"scattergl\",\"marker\":{\"colorbar\":{\"outlinewidth\":0,\"ticks\":\"\"}}}],\"scatter3d\":[{\"type\":\"scatter3d\",\"line\":{\"colorbar\":{\"outlinewidth\":0,\"ticks\":\"\"}},\"marker\":{\"colorbar\":{\"outlinewidth\":0,\"ticks\":\"\"}}}],\"scattermapbox\":[{\"type\":\"scattermapbox\",\"marker\":{\"colorbar\":{\"outlinewidth\":0,\"ticks\":\"\"}}}],\"scatterternary\":[{\"type\":\"scatterternary\",\"marker\":{\"colorbar\":{\"outlinewidth\":0,\"ticks\":\"\"}}}],\"scattercarpet\":[{\"type\":\"scattercarpet\",\"marker\":{\"colorbar\":{\"outlinewidth\":0,\"ticks\":\"\"}}}],\"carpet\":[{\"aaxis\":{\"endlinecolor\":\"#2a3f5f\",\"gridcolor\":\"white\",\"linecolor\":\"white\",\"minorgridcolor\":\"white\",\"startlinecolor\":\"#2a3f5f\"},\"baxis\":{\"endlinecolor\":\"#2a3f5f\",\"gridcolor\":\"white\",\"linecolor\":\"white\",\"minorgridcolor\":\"white\",\"startlinecolor\":\"#2a3f5f\"},\"type\":\"carpet\"}],\"table\":[{\"cells\":{\"fill\":{\"color\":\"#EBF0F8\"},\"line\":{\"color\":\"white\"}},\"header\":{\"fill\":{\"color\":\"#C8D4E3\"},\"line\":{\"color\":\"white\"}},\"type\":\"table\"}],\"barpolar\":[{\"marker\":{\"line\":{\"color\":\"#E5ECF6\",\"width\":0.5},\"pattern\":{\"fillmode\":\"overlay\",\"size\":10,\"solidity\":0.2}},\"type\":\"barpolar\"}],\"pie\":[{\"automargin\":true,\"type\":\"pie\"}]},\"layout\":{\"autotypenumbers\":\"strict\",\"colorway\":[\"#636efa\",\"#EF553B\",\"#00cc96\",\"#ab63fa\",\"#FFA15A\",\"#19d3f3\",\"#FF6692\",\"#B6E880\",\"#FF97FF\",\"#FECB52\"],\"font\":{\"color\":\"#2a3f5f\"},\"hovermode\":\"closest\",\"hoverlabel\":{\"align\":\"left\"},\"paper_bgcolor\":\"white\",\"plot_bgcolor\":\"#E5ECF6\",\"polar\":{\"bgcolor\":\"#E5ECF6\",\"angularaxis\":{\"gridcolor\":\"white\",\"linecolor\":\"white\",\"ticks\":\"\"},\"radialaxis\":{\"gridcolor\":\"white\",\"linecolor\":\"white\",\"ticks\":\"\"}},\"ternary\":{\"bgcolor\":\"#E5ECF6\",\"aaxis\":{\"gridcolor\":\"white\",\"linecolor\":\"white\",\"ticks\":\"\"},\"baxis\":{\"gridcolor\":\"white\",\"linecolor\":\"white\",\"ticks\":\"\"},\"caxis\":{\"gridcolor\":\"white\",\"linecolor\":\"white\",\"ticks\":\"\"}},\"coloraxis\":{\"colorbar\":{\"outlinewidth\":0,\"ticks\":\"\"}},\"colorscale\":{\"sequential\":[[0.0,\"#0d0887\"],[0.1111111111111111,\"#46039f\"],[0.2222222222222222,\"#7201a8\"],[0.3333333333333333,\"#9c179e\"],[0.4444444444444444,\"#bd3786\"],[0.5555555555555556,\"#d8576b\"],[0.6666666666666666,\"#ed7953\"],[0.7777777777777778,\"#fb9f3a\"],[0.8888888888888888,\"#fdca26\"],[1.0,\"#f0f921\"]],\"sequentialminus\":[[0.0,\"#0d0887\"],[0.1111111111111111,\"#46039f\"],[0.2222222222222222,\"#7201a8\"],[0.3333333333333333,\"#9c179e\"],[0.4444444444444444,\"#bd3786\"],[0.5555555555555556,\"#d8576b\"],[0.6666666666666666,\"#ed7953\"],[0.7777777777777778,\"#fb9f3a\"],[0.8888888888888888,\"#fdca26\"],[1.0,\"#f0f921\"]],\"diverging\":[[0,\"#8e0152\"],[0.1,\"#c51b7d\"],[0.2,\"#de77ae\"],[0.3,\"#f1b6da\"],[0.4,\"#fde0ef\"],[0.5,\"#f7f7f7\"],[0.6,\"#e6f5d0\"],[0.7,\"#b8e186\"],[0.8,\"#7fbc41\"],[0.9,\"#4d9221\"],[1,\"#276419\"]]},\"xaxis\":{\"gridcolor\":\"white\",\"linecolor\":\"white\",\"ticks\":\"\",\"title\":{\"standoff\":15},\"zerolinecolor\":\"white\",\"automargin\":true,\"zerolinewidth\":2},\"yaxis\":{\"gridcolor\":\"white\",\"linecolor\":\"white\",\"ticks\":\"\",\"title\":{\"standoff\":15},\"zerolinecolor\":\"white\",\"automargin\":true,\"zerolinewidth\":2},\"scene\":{\"xaxis\":{\"backgroundcolor\":\"#E5ECF6\",\"gridcolor\":\"white\",\"linecolor\":\"white\",\"showbackground\":true,\"ticks\":\"\",\"zerolinecolor\":\"white\",\"gridwidth\":2},\"yaxis\":{\"backgroundcolor\":\"#E5ECF6\",\"gridcolor\":\"white\",\"linecolor\":\"white\",\"showbackground\":true,\"ticks\":\"\",\"zerolinecolor\":\"white\",\"gridwidth\":2},\"zaxis\":{\"backgroundcolor\":\"#E5ECF6\",\"gridcolor\":\"white\",\"linecolor\":\"white\",\"showbackground\":true,\"ticks\":\"\",\"zerolinecolor\":\"white\",\"gridwidth\":2}},\"shapedefaults\":{\"line\":{\"color\":\"#2a3f5f\"}},\"annotationdefaults\":{\"arrowcolor\":\"#2a3f5f\",\"arrowhead\":0,\"arrowwidth\":1},\"geo\":{\"bgcolor\":\"white\",\"landcolor\":\"#E5ECF6\",\"subunitcolor\":\"white\",\"showland\":true,\"showlakes\":true,\"lakecolor\":\"white\"},\"title\":{\"x\":0.05},\"mapbox\":{\"style\":\"light\"}}},\"annotations\":[{\"font\":{\"color\":\"black\",\"size\":16},\"showarrow\":false,\"text\":\"2738 Tweets\",\"x\":0.5,\"y\":0.5}],\"title\":{\"text\":\"Tweet Emotion Distribution - HuggingFace Labeling\",\"x\":0.5}},                        {\"responsive\": true}                    ).then(function(){\n",
              "                            \n",
              "var gd = document.getElementById('ee311030-6519-4332-b14f-7fe11c9a0764');\n",
              "var x = new MutationObserver(function (mutations, observer) {{\n",
              "        var display = window.getComputedStyle(gd).display;\n",
              "        if (!display || display === 'none') {{\n",
              "            console.log([gd, 'removed!']);\n",
              "            Plotly.purge(gd);\n",
              "            observer.disconnect();\n",
              "        }}\n",
              "}});\n",
              "\n",
              "// Listen for the removal of the full notebook cells\n",
              "var notebookContainer = gd.closest('#notebook-container');\n",
              "if (notebookContainer) {{\n",
              "    x.observe(notebookContainer, {childList: true});\n",
              "}}\n",
              "\n",
              "// Listen for the clearing of the current output cell\n",
              "var outputEl = gd.closest('.output');\n",
              "if (outputEl) {{\n",
              "    x.observe(outputEl, {childList: true});\n",
              "}}\n",
              "\n",
              "                        })                };                            </script>        </div>\n",
              "</body>\n",
              "</html>"
            ]
          },
          "metadata": {}
        }
      ]
    },
    {
      "cell_type": "code",
      "source": [
        "!pip install -U kaleido -q\n",
        "from google.colab import files\n",
        "\n",
        "fig.write_image(\"ihsg_hf_emotion.png\", scale=2)\n",
        "files.download(\"ihsg_hf_emotion.png\")"
      ],
      "metadata": {
        "colab": {
          "base_uri": "https://localhost:8080/",
          "height": 17
        },
        "id": "WomHcskyCYUJ",
        "outputId": "2d901ed1-8e09-43b8-b21b-78d51e5c7bbd"
      },
      "execution_count": null,
      "outputs": [
        {
          "output_type": "display_data",
          "data": {
            "text/plain": [
              "<IPython.core.display.Javascript object>"
            ],
            "application/javascript": [
              "\n",
              "    async function download(id, filename, size) {\n",
              "      if (!google.colab.kernel.accessAllowed) {\n",
              "        return;\n",
              "      }\n",
              "      const div = document.createElement('div');\n",
              "      const label = document.createElement('label');\n",
              "      label.textContent = `Downloading \"${filename}\": `;\n",
              "      div.appendChild(label);\n",
              "      const progress = document.createElement('progress');\n",
              "      progress.max = size;\n",
              "      div.appendChild(progress);\n",
              "      document.body.appendChild(div);\n",
              "\n",
              "      const buffers = [];\n",
              "      let downloaded = 0;\n",
              "\n",
              "      const channel = await google.colab.kernel.comms.open(id);\n",
              "      // Send a message to notify the kernel that we're ready.\n",
              "      channel.send({})\n",
              "\n",
              "      for await (const message of channel.messages) {\n",
              "        // Send a message to notify the kernel that we're ready.\n",
              "        channel.send({})\n",
              "        if (message.buffers) {\n",
              "          for (const buffer of message.buffers) {\n",
              "            buffers.push(buffer);\n",
              "            downloaded += buffer.byteLength;\n",
              "            progress.value = downloaded;\n",
              "          }\n",
              "        }\n",
              "      }\n",
              "      const blob = new Blob(buffers, {type: 'application/binary'});\n",
              "      const a = document.createElement('a');\n",
              "      a.href = window.URL.createObjectURL(blob);\n",
              "      a.download = filename;\n",
              "      div.appendChild(a);\n",
              "      a.click();\n",
              "      div.remove();\n",
              "    }\n",
              "  "
            ]
          },
          "metadata": {}
        },
        {
          "output_type": "display_data",
          "data": {
            "text/plain": [
              "<IPython.core.display.Javascript object>"
            ],
            "application/javascript": [
              "download(\"download_388cf2b8-8bb0-43fb-b326-3f5022830ebb\", \"ihsg_hf_emotion.png\", 131869)"
            ]
          },
          "metadata": {}
        }
      ]
    },
    {
      "cell_type": "markdown",
      "source": [
        "# Tweet Samples"
      ],
      "metadata": {
        "id": "v7zlpn7aU-JH"
      }
    },
    {
      "cell_type": "code",
      "source": [
        "df_copy = df[((df['sentiment'] == 'Positive') & (df['sentiment_hf'] == 'Negative')) | ((df['sentiment'] == 'Negative') & (df['sentiment_hf'] == 'Positive'))]\n",
        "df_copy.info()"
      ],
      "metadata": {
        "colab": {
          "base_uri": "https://localhost:8080/"
        },
        "id": "NKRSny0nU-0M",
        "outputId": "85b743ce-e904-4a96-bc13-f0404d395f61"
      },
      "execution_count": null,
      "outputs": [
        {
          "output_type": "stream",
          "name": "stdout",
          "text": [
            "<class 'pandas.core.frame.DataFrame'>\n",
            "Index: 100 entries, 3 to 2720\n",
            "Data columns (total 20 columns):\n",
            " #   Column                   Non-Null Count  Dtype \n",
            "---  ------                   --------------  ----- \n",
            " 0   conversation_id_str      100 non-null    int64 \n",
            " 1   created_at               100 non-null    object\n",
            " 2   favorite_count           100 non-null    int64 \n",
            " 3   full_text                100 non-null    object\n",
            " 4   id_str                   100 non-null    int64 \n",
            " 5   image_url                4 non-null      object\n",
            " 6   in_reply_to_screen_name  51 non-null     object\n",
            " 7   lang                     100 non-null    object\n",
            " 8   location                 50 non-null     object\n",
            " 9   quote_count              100 non-null    int64 \n",
            " 10  reply_count              100 non-null    int64 \n",
            " 11  retweet_count            100 non-null    int64 \n",
            " 12  tweet_url                100 non-null    object\n",
            " 13  user_id_str              100 non-null    int64 \n",
            " 14  username                 100 non-null    object\n",
            " 15  sentiment                100 non-null    object\n",
            " 16  emotion                  100 non-null    object\n",
            " 17  summary                  100 non-null    object\n",
            " 18  sentiment_hf             100 non-null    object\n",
            " 19  emotion_hf               100 non-null    object\n",
            "dtypes: int64(7), object(13)\n",
            "memory usage: 16.4+ KB\n"
          ]
        }
      ]
    },
    {
      "cell_type": "code",
      "source": [
        "# prompt: create df_copy, where sentiment is positive and sentiment_hf is negative, or the other way around in the df. reset the index in the df_copy,\n",
        "\n",
        "df_copy_2 = df[((df['sentiment'] == 'Positive') & (df['sentiment_hf'] == 'Negative')) | ((df['sentiment'] == 'Negative') & (df['sentiment_hf'] == 'Positive'))]\n",
        "df_copy_2 = df_copy.reset_index(drop=True)\n"
      ],
      "metadata": {
        "id": "v9IePnUiVfWF"
      },
      "execution_count": null,
      "outputs": []
    },
    {
      "cell_type": "code",
      "source": [
        "# prompt: print all of the full_text in df-copy and its index in the original df\n",
        "\n",
        "for index, row in df_copy.iterrows():\n",
        "  print(f\"Index in original df: {df[df['full_text'] == row['full_text']].index.values[0]}\")\n",
        "  print(f\"Full Text: {row['full_text']}\")\n",
        "  print(\"---\")\n"
      ],
      "metadata": {
        "colab": {
          "base_uri": "https://localhost:8080/"
        },
        "id": "I3CsDcshWaEA",
        "outputId": "239f93ba-3e35-4ea8-a85e-ab25dbe87576"
      },
      "execution_count": null,
      "outputs": [
        {
          "output_type": "stream",
          "name": "stdout",
          "text": [
            "Index in original df: 3\n",
            "Full Text: But 02 voters stay dumb. Still defending wowo even while getting played like morons. No wonder they're dumb so what do they know about ihsg or rupiah is crashing? 02 voters only understand free lunch\n",
            "---\n",
            "Index in original df: 22\n",
            "Full Text: @ibnux @nuicemedia Bangkeee... Besok mendadak IHSG naik karena udah dihimbau oleh presiden \n",
            "---\n",
            "Index in original df: 32\n",
            "Full Text: @yudhakhel Terus IHSG jadi naik lagi gitu? Wkwkwkwk\n",
            "---\n",
            "Index in original df: 59\n",
            "Full Text: You get more profit in a week in bitcoin than ihsg for 5 years \n",
            "---\n",
            "Index in original df: 96\n",
            "Full Text: @nuicemedia Everything except marking up the IHSG\n",
            "---\n",
            "Index in original df: 120\n",
            "Full Text: @ernestprakasa Bisa buzzernya suruh beli saham2 IHSG yg jatuh pake uang THR mereka\n",
            "---\n",
            "Index in original df: 125\n",
            "Full Text: @Tan_Mar3M ITULAH GUNANYA PEJABAT DARI BUZZERP BACOTANNYA TERNAKAN MULYONO PASTI IHSG &amp; EKONOMI JADI MEROKET https://t.co/Eo00XhZbb5\n",
            "---\n",
            "Index in original df: 260\n",
            "Full Text: @thonisho IHSG G nya Gwenchana\n",
            "---\n",
            "Index in original df: 287\n",
            "Full Text: IHSG anak abah \n",
            "---\n",
            "Index in original df: 291\n",
            "Full Text: IHSG SEKUMPULAN ANAK ABAH ga perlu nunggu nanti 2045 Indonesia emas sekarang pun udah emas duluan. Indonesia (c) Emas \n",
            "---\n",
            "Index in original df: 347\n",
            "Full Text: thr yg diterime lebih besar dari thr yg dikeluarkan. Ini sebuah bisnis yg sangat bagus. Persetan dgn ihsg yg anjlok\n",
            "---\n",
            "Index in original df: 355\n",
            "Full Text: oke gas oke gas IHSG meluncur bebas\n",
            "---\n",
            "Index in original df: 364\n",
            "Full Text: @StefanAntonio__ Semakin kalian membenci Jokowi IHSG akan semakin rontok. Semakin diam Jokowi semakin sabar. Semakin banyak kebohongan yang kalian sebar Jokowi semakin sabar. Jokowi ngga pernah BOHONG Bangsa asinglah yang berbohong. Hidup Jokowi. Hiduplah kembali ESEMKA...!!!!\n",
            "---\n",
            "Index in original df: 394\n",
            "Full Text: Kocak banget ya DPR dikira aksinya bikin IHSG rebound gitu? \n",
            "---\n",
            "Index in original df: 399\n",
            "Full Text: DAMN GIRL KASUS IHSG TURUN INI DAN BACA KOMENAN TIKTOK BENERNA REMINDER ILMU EKONOMI MAKRO GW DI KULIAH\n",
            "---\n",
            "Index in original df: 414\n",
            "Full Text: @jahterra Tambah lagi Napas dikit ihsg\n",
            "---\n",
            "Index in original df: 440\n",
            "Full Text: @ezash @cnbcindonesia Dan kita bisa mewujudkan Nawacita bapak presiden adalah biang masalah IHSG drop\n",
            "---\n",
            "Index in original df: 445\n",
            "Full Text: ngapain ribut ihsg turun sih? bagus lah biar jgn pada main saham saham haram bro. Mending kaya Korea Utara no saham tp negaranya kuat \n",
            "---\n",
            "Index in original df: 463\n",
            "Full Text:  IHSG isinya anak abah WKWKWKWK\n",
            "---\n",
            "Index in original df: 491\n",
            "Full Text: ciye yang pada teralihkan fokusnya ke IHSG tau2 ada aja yg ketok palu. mantaaaaaaaap representasi ku!!!! jd kapan kita pindah guys?\n",
            "---\n",
            "Index in original df: 542\n",
            "Full Text: @StefanAntonio__ Wuih kompak banget hari ini buzzer tai kebo tepuk tangan lihat IHSG ambruk \n",
            "---\n",
            "Index in original df: 559\n",
            "Full Text: @abdullll85 @prabowo @Gerindra IHSG kumpulan anak anak Abah ? Tololnya keren banget nih orang \n",
            "---\n",
            "Index in original df: 573\n",
            "Full Text: Tunggu aja deh prabowo bilang IHSG ga ada dampak buat ekonomi indo.wkwk liat aja ntr. Save your money everybody\n",
            "---\n",
            "Index in original df: 604\n",
            "Full Text: @akuratco Buka ruangan di lt3 depan floor lah klo ada yg mau jual dilaporin polisi pasti ihsg ijo\n",
            "---\n",
            "Index in original df: 636\n",
            "Full Text: @msaid_didu Terima kasih Pak..masih ada orang seperti Bapak yg masih memperjuangkan Indonesia. Semoga menjadi amal ibadah Bapak dan keluarga besarnya. Kami rakyat kecil sebenarnya sudah seperti IHSG kepercayaannya sama pemerintah ini.\n",
            "---\n",
            "Index in original df: 674\n",
            "Full Text: @patragumala Dasco nongol IHSG kaget bentaran balik lagi jadi Dasmu\n",
            "---\n",
            "Index in original df: 710\n",
            "Full Text: Datengin tiap hari sampe ihsg ke 10k coba\n",
            "---\n",
            "Index in original df: 748\n",
            "Full Text: @Keke43636812 @WagimanDeep212_ Biar IHSG nya takut jadi naik\n",
            "---\n",
            "Index in original df: 773\n",
            "Full Text: SELAMAT YAAA Buat Mayor dan RUU TNI nya Selamat buat mayoritas penduduk Indonesia akhirnya IHSG Anjlok Bursa Efek Indonesia Goncang dan mungkin badai PHK bakal berlanjut ____ Menuju Indonesia Bubar 2030 https://t.co/qZEEq9kaTX\n",
            "---\n",
            "Index in original df: 784\n",
            "Full Text: All these people who KNOW and CARE about IHSG trus presidennya malah gapeduli yang penting aq dah jd presiden yeaaaayyyy yang penting org2ku dah dapet jabatan yang penting proyek yg kumau jalan yaaaayyyyyy \n",
            "---\n",
            "Index in original df: 803\n",
            "Full Text: IHSG suspend gitu gelak. Ada fungsinya juga dua tahun jadi staf corcom. Jadi gak komen itu kan cuman tempat judi hahaha\n",
            "---\n",
            "Index in original df: 812\n",
            "Full Text: @DediiAjii 2600T di wipe dr IHSG dalam setengah hari bro. No other country in the world is as dumb as Indo. 2nd half of the day rada bounce krn disuntik dapen BUMN &amp; BPJS TK\n",
            "---\n",
            "Index in original df: 862\n",
            "Full Text: Indonesian IHSG halted trading earlier this day. too small of a market. very little cashflow which results in a pvp. not all people can eat from a small pond. the market is always a zero sum game \n",
            "---\n",
            "Index in original df: 880\n",
            "Full Text: @rgoestama @pendetakaya Actionnya : pengesahan ruu TNI market reaction : Firesale pas lebaran IHSG udah di 5000 rupiah.\n",
            "---\n",
            "Index in original df: 926\n",
            "Full Text: @BudiBukanIntel Jigetin terus pak Sampai angka IHSG naik lagi \n",
            "---\n",
            "Index in original df: 953\n",
            "Full Text: Ramein pleaseeee #TolakRUUTNI jangan sampe kalah rame dari MBG Danantara dan yg lagi rame sekarang IHSG. Semuanya penting tapi kalau yg ini sampe tembus efeknya gak main-main dan bakal kerasa di SEMUA aspek kehidupan.\n",
            "---\n",
            "Index in original df: 962\n",
            "Full Text: ihsg turun hanyalah akal2an antek asing apapun yg terjadi tetap okegas\n",
            "---\n",
            "Index in original df: 1081\n",
            "Full Text: Ngapain juga merduliin IHSG IHSG itu produk asing buktinya itu SG kan Singapore ekonomi kita fundamental nya udh kuat tidak perlu khawatir semuanya. WKWKWKWKWKWK (((Ambil nafas panjang ngeliat negara ini)))\n",
            "---\n",
            "Index in original df: 1101\n",
            "Full Text: @King_PWS_ Profesor kancil ingin bantu naikkan ihsg. Dibantu yaa.....plok plok plok\n",
            "---\n",
            "Index in original df: 1242\n",
            "Full Text: IHSG bner² lj yeee \n",
            "---\n",
            "Index in original df: 1263\n",
            "Full Text: Ga pernah sebenci ini sm 02 voters balikin ihsg oiiii parah bgttt gk milih dapet imbasnya\n",
            "---\n",
            "Index in original df: 1271\n",
            "Full Text: @Lyovv berita mundurnya kemenkue bukannya bikin IHSG turunnya\n",
            "---\n",
            "Index in original df: 1290\n",
            "Full Text: @BudiBukanIntel gue coba banding dgn S&amp;P500 bjir langsung lawan arah lmao (yg merah S&amp;P500 yg candle IHSG) https://t.co/sBvUX9ydzn\n",
            "---\n",
            "Index in original df: 1298\n",
            "Full Text: yg terjun bukan cuma payung tp IHSG wkwkwkkw kocak\n",
            "---\n",
            "Index in original df: 1376\n",
            "Full Text: @cnbcindonesia Dasco datang ihsg langsung rebound. Kalo gitu tolong datang ke old trafford pak biar peringkat MU juga rebound ke zona eropa.\n",
            "---\n",
            "Index in original df: 1380\n",
            "Full Text: IHSG ANAK ABAH WKWKWKWKW GOBLOOOO\n",
            "---\n",
            "Index in original df: 1382\n",
            "Full Text: @Saham_fess We re Doomed Brother and Sister \n",
            "---\n",
            "Index in original df: 1389\n",
            "Full Text: Berharap IHSG menguat gitu? Aowkwkwk kocak sekali bapak2 ini.. Stand-up gih buruan sana\n",
            "---\n",
            "Index in original df: 1393\n",
            "Full Text: Terus aja sampai IHSG 4000 \n",
            "---\n",
            "Index in original df: 1408\n",
            "Full Text: IHSG isinya anak abah ketawa malem2 Abah punya anak namanya BBCA dan BMRI menyalaa abahku \n",
            "---\n",
            "Index in original df: 1438\n",
            "Full Text: @pangeransiahaan Diyi kiri kiki disimpirin tiris lingsing niik ligi ipi IHSG nyi? Hiriiinnn diiihhh \n",
            "---\n",
            "Index in original df: 1447\n",
            "Full Text: @hyntxt udah ada ihsg dikatain anak abah ahahahah\n",
            "---\n",
            "Index in original df: 1467\n",
            "Full Text: @idextratime Yang bilang IHSG anjlok : KAMPUNGAN!!! Kata bapack2 berseragam yg bentar lg dpt side job.\n",
            "---\n",
            "Index in original df: 1480\n",
            "Full Text: Most logical explanation as to why IHSG dropped Thanks to @umr21 for sharing this....\n",
            "---\n",
            "Index in original df: 1512\n",
            "Full Text: @jahterra Tambah IHSG sekarang\n",
            "---\n",
            "Index in original df: 1534\n",
            "Full Text: Oke gas oke gas IHSG 5K \n",
            "---\n",
            "Index in original df: 1543\n",
            "Full Text: kalo ihsg milik anak abah mah gw udh main saham dari jaman orok gobloookk\n",
            "---\n",
            "Index in original df: 1608\n",
            "Full Text: DPR dateng ihsg langsung mendingan fix lah (mereka) bandarnya\n",
            "---\n",
            "Index in original df: 1609\n",
            "Full Text: @Anomalindy @tanyarlfes Waduuuhhh waduuuhhhh ihsg disamain ama judol???? Wkwkwkwkwk\n",
            "---\n",
            "Index in original df: 1632\n",
            "Full Text: @yudhakhel Ihsg turun biar bisa diserok danantara aowkwokw\n",
            "---\n",
            "Index in original df: 1728\n",
            "Full Text: Hmmm hari yg aneh abis liat ingpo ihsg merah &amp; dwifungsi loreng yg masih bikin pusing eh tetiba bgt sungjake velocity wkwkwk semoga tumbuh sungjake di sela-sela perlawanan pada rezim negaramu\n",
            "---\n",
            "Index in original df: 1735\n",
            "Full Text: @kumparan Emang IHSG liat muke loe langsung naik\n",
            "---\n",
            "Index in original df: 1740\n",
            "Full Text: @idextratime Waktunya serokk IHSG anjlok BTC down. Waktu yg tepat buat beli.\n",
            "---\n",
            "Index in original df: 1749\n",
            "Full Text: IHSG anak abah\n",
            "---\n",
            "Index in original df: 1782\n",
            "Full Text: @yudhakhel Hebat anak abah bisa meruntuhkan IHSG\n",
            "---\n",
            "Index in original df: 1798\n",
            "Full Text: @detikcom Seharusnya mas WAPRES yang lansung turun tangan dengan ide ide cemerlangnya supaya IHSG lansung meroket ke udara\n",
            "---\n",
            "Index in original df: 1805\n",
            "Full Text: Paling pake narasi pihak asing anak abah atau danantara bakal menyelamatkan ihsg‍↔️\n",
            "---\n",
            "Index in original df: 1831\n",
            "Full Text: Kata siapa Indonesia gelap? Terang banget kok Warna merah IHSG nya terang banget \n",
            "---\n",
            "Index in original df: 1844\n",
            "Full Text: @OmBrunyaBeby_ Keren banget pengangguran macam Anies Baswedan punya kendali ihsg wkwk\n",
            "---\n",
            "Index in original df: 1942\n",
            "Full Text: Faklah RUU TNI mau disahkan IHSG merah membara sampe di halt Tapi adek awak lulus ke UB Thanks God \n",
            "---\n",
            "Index in original df: 1971\n",
            "Full Text: Apapun masalahnya Dasco lah Messiah-nya.‍️ Hari ini IHSG️ Kemarin Pengangkatan CPNS️ Sebelumnya Gas 3kg️ Better Call Dasco\n",
            "---\n",
            "Index in original df: 1989\n",
            "Full Text: IHSG ajur-ajuran saat lainnya naik. Gitu masih bilang siapa bilang Indonesia Gelap ?\n",
            "---\n",
            "Index in original df: 2026\n",
            "Full Text: @tb_siswadi because the IHSG fell 6.12% or 395.87 points to level 6 076 in the first trading session on Tuesday\n",
            "---\n",
            "Index in original df: 2072\n",
            "Full Text: @merveak43 @814ysv The IHSG index is influenced by global geopolitical tensions like the Russia-Ukraine war impacting energy prices and investor sentiment. The US Fed's steady 4.25% 4.50% rates affect capital flows to Indonesia. Domestically a 5.02% GDP growth in Dec 2024 and -0.09%\n",
            "---\n",
            "Index in original df: 2075\n",
            "Full Text: @aldyfiqri @Uki23 @blisonny @Ndrewstjan @aewin86 Buzzer2 pada ilang dari time line.. ninggu arahan.. pusing mrk. Ini lg kumpulin cukong2 bikin deal2 spesial buat naikin ihsg habis itu buzzer2 kerja lg pakai narasi puja puji wowo..\n",
            "---\n",
            "Index in original df: 2103\n",
            "Full Text: @ID12F Emang lucu apalagi ada yg bilang ihsg naik lagi dikit karna tu tua datang muter muter di gedung bursa efek\n",
            "---\n",
            "Index in original df: 2118\n",
            "Full Text: Oke gas Oke gas IHSG kebablas\n",
            "---\n",
            "Index in original df: 2123\n",
            "Full Text: 3️⃣ Global financial institutions shifting their IHSG recommendation to underweight potentially driving foreign capital outflows. The immediate consequence? Panic selling. Both retail and institutional investors rushed to exit the market triggering a sharp decline.\n",
            "---\n",
            "Index in original df: 2162\n",
            "Full Text: @yudhakhel IHSG itu asing! Karena SG adalah Singapore! Prabowo hebat! Brantas semua kekuatan asing! Tobanggaduuuu!!!\n",
            "---\n",
            "Index in original df: 2166\n",
            "Full Text: @IDX_BEI - bubarin ormas -kepastian hukum yang jelas - buat UU pidana koruptor dihukum mati -buat UU miskinkan koruptor - bubarin lembaga yang tidak perlu Dah tu IHSG pasti up 9999999%\n",
            "---\n",
            "Index in original df: 2219\n",
            "Full Text: bulan ini cukup berat buat aku gaji cuma cair 60% tapi harus bantu bayar sekolah adek duit sisa 140rb sampe awal bulan liat berita di x IHSG anjlok. semoga selalu dilancarkan rezekinya dan lancar semua urusan buat kita semua aamiin\n",
            "---\n",
            "Index in original df: 2221\n",
            "Full Text: Masjid sini emang beda obrolannya juga soal ihsg :))))\n",
            "---\n",
            "Index in original df: 2249\n",
            "Full Text: bener aje kan ihsg drop wkwkwkw untung uda pindahin semua aset ke luar punya\n",
            "---\n",
            "Index in original df: 2255\n",
            "Full Text:  wong cilik orang-orang di kampung dan daerah ga akan terkena imbas market jeblok dan IHSG ancur besok kami tetep kerja dan yg penting bisa terus makan tolol !\n",
            "---\n",
            "Index in original df: 2297\n",
            "Full Text: @are_inismyname @prabowo @AlmaghribiS @Gerindra @IrawanRommi @kurawa @MIrvanDarwin1 @Ndons_Back @zarryhendrik @Kimberley_PS08 @florieliciouss @BANGSAygSUJUD Ndasmu IHSG naik mbah\n",
            "---\n",
            "Index in original df: 2307\n",
            "Full Text: @BigAlphaID Gila gila ini IHSG dalam sehari net sel nya 2 5T woi https://t.co/NXhDZVsjHP\n",
            "---\n",
            "Index in original df: 2373\n",
            "Full Text: Luar biasa @grok ga takut bos nya\n",
            "---\n",
            "Index in original df: 2409\n",
            "Full Text: @profesor_saham Dateng tuh sambil bilang ayo itu dinaikkan itu IHSG nya Gitu kali ya\n",
            "---\n",
            "Index in original df: 2453\n",
            "Full Text: &gt; naikin ihsg y &gt;&gt; omke gaZ\n",
            "---\n",
            "Index in original df: 2470\n",
            "Full Text: @prasetyogii Gini aja cina 2021 turun 2 tahun range 1 tahun baru naik 2025\n",
            "---\n",
            "Index in original df: 2480\n",
            "Full Text: terima kasih storage penuh..... tanpa km niscaya ak masih main stockbit dengan situasi dan kondisi ihsg geger ini.......\n",
            "---\n",
            "Index in original df: 2524\n",
            "Full Text: I need IHSG to be the lowest ever tomorrow morning.\n",
            "---\n",
            "Index in original df: 2525\n",
            "Full Text: @Duren___ Prabowo ; ... suruh itu IHSG berdiri \n",
            "---\n",
            "Index in original df: 2532\n",
            "Full Text: Mereka ni belum tau aja nanti IHSG dibeli semua pake duit pribadi Sang Pemimpin Besar Al Mufasa Prabowo Albianto. Itu Pak Dasco ke sana sekarang lagi nego harga. Dibeliin semua IHSG nanti demi bangsa dan negara. Al Mufasa ga takut mati!\n",
            "---\n",
            "Index in original df: 2562\n",
            "Full Text: @profesor_saham Tolong diskon danantara mau masuk Gitu mungkin pa Kan jadi bagus valuasi wajar \n",
            "---\n",
            "Index in original df: 2606\n",
            "Full Text: @kumparan Dikira abis dia datang ihsg langsung naik \n",
            "---\n",
            "Index in original df: 2637\n",
            "Full Text: @AirinDatangLagi Kaum 58% mana ngerti IHSG taunya dapat beras 5kg minyak goreng 1 kg uang 10 ribu.\n",
            "---\n",
            "Index in original df: 1749\n",
            "Full Text: IHSG anak abah\n",
            "---\n",
            "Index in original df: 2696\n",
            "Full Text: @yudhakhel Efeknya apa? IHSG langsung naik gitu \n",
            "---\n",
            "Index in original df: 2720\n",
            "Full Text: akhirnya nemu yg ngejelasin kenapa IHSG ini bener-bener bisa jadi cerminan kenapa lagi ga baik-baik aja \n",
            "---\n"
          ]
        }
      ]
    },
    {
      "cell_type": "markdown",
      "source": [
        "# Topic Modelling and Keyword Analysis"
      ],
      "metadata": {
        "id": "n3TgU_oQJCt2"
      }
    },
    {
      "cell_type": "code",
      "source": [
        "import pandas as pd\n",
        "from collections import Counter\n",
        "import re\n",
        "\n",
        "# Define blacklist of words you want to exclude\n",
        "blacklist = set([\n",
        "    'dan', 'yang', 'dengan', 'atau', 'akan', 'di'\n",
        "    # 'danantara',\n",
        "    # 'dan', 'dari', 'untuk', 'dengan', 'akan', 'ke', 'di',\n",
        "    # 'ini', 'itu', 'atau', 'yang', 'a', 'an', 'of', 'to', 'in', 'on', 'at', 'is', 'are'\n",
        "    # Add more words to blacklist as needed\n",
        "])\n",
        "\n",
        "def get_top_ngrams(text, n, top_k=10, blacklist=set()):\n",
        "    # Preprocess text: lowercase, remove punctuation, split into words\n",
        "    text = text.lower()\n",
        "    text = re.sub(r'[^\\w\\s]', '', text)\n",
        "    words = text.split()\n",
        "\n",
        "    # Remove blacklisted words for unigram (1-gram) case\n",
        "    if n == 1:\n",
        "        words = [word for word in words if word not in blacklist]\n",
        "\n",
        "    # Create n-grams\n",
        "    ngrams = zip(*[words[i:] for i in range(n)])\n",
        "    ngrams = [\" \".join(ngram) for ngram in ngrams]\n",
        "\n",
        "    # For bigrams/trigrams, remove if any component in n-gram is blacklisted\n",
        "    ngrams = [ngram for ngram in ngrams if all(word not in blacklist for word in ngram.split())]\n",
        "\n",
        "    # Count n-gram frequencies\n",
        "    ngram_counts = Counter(ngrams)\n",
        "\n",
        "    # Get top k n-grams\n",
        "    top_ngrams = ngram_counts.most_common(top_k)\n",
        "    return top_ngrams\n",
        "\n",
        "# Assuming df is your DataFrame and 'llm_summary' contains the text\n",
        "text = \" \".join(df['summary'].astype(str))\n",
        "\n",
        "# Get top 10 words (unigrams)\n",
        "top_words = get_top_ngrams(text, 1, top_k=10, blacklist=blacklist)\n",
        "print(\"Top 10 words:\")\n",
        "for word, count in top_words:\n",
        "    print(f\"{word}: {count}\")\n",
        "\n",
        "print(\"\\n\")\n",
        "\n",
        "# Get top 10 bigrams\n",
        "top_bigrams = get_top_ngrams(text, 2, top_k=10, blacklist=blacklist)\n",
        "# top_bigrams = get_top_ngrams(text, 2, top_k=10)\n",
        "print(\"Top 10 bigrams:\")\n",
        "for bigram, count in top_bigrams:\n",
        "    print(f\"{bigram}: {count}\")\n",
        "\n",
        "print(\"\\n\")\n",
        "\n",
        "# Get top 10 trigrams\n",
        "# top_trigrams = get_top_ngrams(text, 3, top_k=10, blacklist=blacklist)\n",
        "top_trigrams = get_top_ngrams(text, 3, top_k=10)\n",
        "print(\"Top 10 trigrams:\")\n",
        "for trigram, count in top_trigrams:\n",
        "    print(f\"{trigram}: {count}\")\n"
      ],
      "metadata": {
        "colab": {
          "base_uri": "https://localhost:8080/"
        },
        "id": "a-9_D7dzJGzW",
        "outputId": "91768897-20fe-414b-b232-0150dc472b2b"
      },
      "execution_count": null,
      "outputs": [
        {
          "output_type": "stream",
          "name": "stdout",
          "text": [
            "Top 10 words:\n",
            "ihsg: 2489\n",
            "turun: 514\n",
            "karena: 453\n",
            "anjlok: 414\n",
            "tidak: 330\n",
            "investor: 183\n",
            "saham: 168\n",
            "ekonomi: 167\n",
            "penurunan: 144\n",
            "naik: 135\n",
            "\n",
            "\n",
            "Top 10 bigrams:\n",
            "ihsg turun: 418\n",
            "ihsg anjlok: 382\n",
            "ihsg ihsg: 160\n",
            "turun karena: 94\n",
            "anjlok karena: 87\n",
            "penurunan ihsg: 87\n",
            "hari ini: 74\n",
            "ihsg mengalami: 73\n",
            "mengalami penurunan: 65\n",
            "ihsg tidak: 64\n",
            "\n",
            "\n",
            "Top 10 trigrams:\n",
            "ihsg turun karena: 84\n",
            "ihsg anjlok karena: 80\n",
            "ihsg mengalami penurunan: 54\n",
            "ihsg ihsg anjlok: 39\n",
            "hari ini ihsg: 34\n",
            "ihsg ihsg turun: 30\n",
            "ihsg turun 5: 27\n",
            "ihsg anjlok ihsg: 25\n",
            "mengalami penurunan signifikan: 22\n",
            "ihsg anjlok dan: 21\n"
          ]
        }
      ]
    }
  ]
}